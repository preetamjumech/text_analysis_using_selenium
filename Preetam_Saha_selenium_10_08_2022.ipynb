{
  "nbformat": 4,
  "nbformat_minor": 0,
  "metadata": {
    "colab": {
      "name": "Preetam_Saha_selenium_10.08.2022.ipynb",
      "provenance": [],
      "authorship_tag": "ABX9TyMYK2mARtmLzMD4s3ffTXjj",
      "include_colab_link": true
    },
    "kernelspec": {
      "name": "python3",
      "display_name": "Python 3"
    },
    "language_info": {
      "name": "python"
    }
  },
  "cells": [
    {
      "cell_type": "markdown",
      "metadata": {
        "id": "view-in-github",
        "colab_type": "text"
      },
      "source": [
        "<a href=\"https://colab.research.google.com/github/preetamjumech/text_analysis_using_selenium/blob/main/Preetam_Saha_selenium_10_08_2022.ipynb\" target=\"_parent\"><img src=\"https://colab.research.google.com/assets/colab-badge.svg\" alt=\"Open In Colab\"/></a>"
      ]
    },
    {
      "cell_type": "code",
      "execution_count": 3,
      "metadata": {
        "colab": {
          "base_uri": "https://localhost:8080/"
        },
        "id": "oCT9A2Mal7mJ",
        "outputId": "706e4b3b-8e83-4985-d587-85ca797e6699"
      },
      "outputs": [
        {
          "output_type": "stream",
          "name": "stdout",
          "text": [
            "Looking in indexes: https://pypi.org/simple, https://us-python.pkg.dev/colab-wheels/public/simple/\n",
            "Requirement already satisfied: selenium in /usr/local/lib/python3.7/dist-packages (4.4.0)\n",
            "Requirement already satisfied: trio~=0.17 in /usr/local/lib/python3.7/dist-packages (from selenium) (0.21.0)\n",
            "Requirement already satisfied: trio-websocket~=0.9 in /usr/local/lib/python3.7/dist-packages (from selenium) (0.9.2)\n",
            "Requirement already satisfied: urllib3[secure,socks]~=1.26 in /usr/local/lib/python3.7/dist-packages (from selenium) (1.26.11)\n",
            "Requirement already satisfied: async-generator>=1.9 in /usr/local/lib/python3.7/dist-packages (from trio~=0.17->selenium) (1.10)\n",
            "Requirement already satisfied: idna in /usr/local/lib/python3.7/dist-packages (from trio~=0.17->selenium) (2.10)\n",
            "Requirement already satisfied: attrs>=19.2.0 in /usr/local/lib/python3.7/dist-packages (from trio~=0.17->selenium) (22.1.0)\n",
            "Requirement already satisfied: sniffio in /usr/local/lib/python3.7/dist-packages (from trio~=0.17->selenium) (1.2.0)\n",
            "Requirement already satisfied: sortedcontainers in /usr/local/lib/python3.7/dist-packages (from trio~=0.17->selenium) (2.4.0)\n",
            "Requirement already satisfied: outcome in /usr/local/lib/python3.7/dist-packages (from trio~=0.17->selenium) (1.2.0)\n",
            "Requirement already satisfied: wsproto>=0.14 in /usr/local/lib/python3.7/dist-packages (from trio-websocket~=0.9->selenium) (1.1.0)\n",
            "Requirement already satisfied: pyOpenSSL>=0.14 in /usr/local/lib/python3.7/dist-packages (from urllib3[secure,socks]~=1.26->selenium) (22.0.0)\n",
            "Requirement already satisfied: certifi in /usr/local/lib/python3.7/dist-packages (from urllib3[secure,socks]~=1.26->selenium) (2022.6.15)\n",
            "Requirement already satisfied: cryptography>=1.3.4 in /usr/local/lib/python3.7/dist-packages (from urllib3[secure,socks]~=1.26->selenium) (37.0.4)\n",
            "Requirement already satisfied: PySocks!=1.5.7,<2.0,>=1.5.6 in /usr/local/lib/python3.7/dist-packages (from urllib3[secure,socks]~=1.26->selenium) (1.7.1)\n",
            "Requirement already satisfied: cffi>=1.12 in /usr/local/lib/python3.7/dist-packages (from cryptography>=1.3.4->urllib3[secure,socks]~=1.26->selenium) (1.15.1)\n",
            "Requirement already satisfied: pycparser in /usr/local/lib/python3.7/dist-packages (from cffi>=1.12->cryptography>=1.3.4->urllib3[secure,socks]~=1.26->selenium) (2.21)\n",
            "Requirement already satisfied: h11<1,>=0.9.0 in /usr/local/lib/python3.7/dist-packages (from wsproto>=0.14->trio-websocket~=0.9->selenium) (0.13.0)\n",
            "Requirement already satisfied: typing-extensions in /usr/local/lib/python3.7/dist-packages (from h11<1,>=0.9.0->wsproto>=0.14->trio-websocket~=0.9->selenium) (4.1.1)\n"
          ]
        }
      ],
      "source": [
        "!pip install kora -q #kora is the package, wrapper function\n",
        "!pip install selenium "
      ]
    },
    {
      "cell_type": "code",
      "source": [
        "from kora.selenium import wd as browser  #new browser will be opened but we cannot see that \n",
        "from selenium.webdriver.common.by import By\n",
        "import pandas as pd\n",
        "import time\n",
        "import numpy as np"
      ],
      "metadata": {
        "id": "_8p9Wp3Umlne"
      },
      "execution_count": 19,
      "outputs": []
    },
    {
      "cell_type": "code",
      "source": [
        "url = \"https://www.imdb.com/title/tt0816692/reviews/?ref_=tt_ql_urv\""
      ],
      "metadata": {
        "id": "3H3YXYBlneJp"
      },
      "execution_count": 6,
      "outputs": []
    },
    {
      "cell_type": "code",
      "source": [
        "browser.get(url)"
      ],
      "metadata": {
        "id": "vZ-03_mkoZLY"
      },
      "execution_count": 7,
      "outputs": []
    },
    {
      "cell_type": "code",
      "source": [
        "for _ in range(5):\n",
        "  browser.find_element(By.XPATH,\"//button[@class='ipl-load-more__button']\").click()  #find_element a html portion. find_elements all html portions\n",
        "  time.sleep(4)"
      ],
      "metadata": {
        "id": "gt5Co_ilpmvH"
      },
      "execution_count": 8,
      "outputs": []
    },
    {
      "cell_type": "code",
      "source": [
        "xx = browser.find_elements(By.XPATH,\"//div[@class='expander-icon-wrapper show-more__control']\")\n",
        "len(xx)"
      ],
      "metadata": {
        "colab": {
          "base_uri": "https://localhost:8080/"
        },
        "id": "uZA1bVesrRVQ",
        "outputId": "cef7280c-6cb9-4fe5-e407-4913e1dd29b3"
      },
      "execution_count": 10,
      "outputs": [
        {
          "output_type": "execute_result",
          "data": {
            "text/plain": [
              "105"
            ]
          },
          "metadata": {},
          "execution_count": 10
        }
      ]
    },
    {
      "cell_type": "code",
      "source": [
        "yy = browser.find_elements(By.XPATH,\"//div[@class='expander-icon-wrapper spoiler-warning__control']\") ##xx,yy are clickable elements\n",
        "len(yy)"
      ],
      "metadata": {
        "colab": {
          "base_uri": "https://localhost:8080/"
        },
        "id": "TH8L0_-csuoJ",
        "outputId": "35f3026c-8301-4675-c2ad-13dc34cd2410"
      },
      "execution_count": 12,
      "outputs": [
        {
          "output_type": "execute_result",
          "data": {
            "text/plain": [
              "45"
            ]
          },
          "metadata": {},
          "execution_count": 12
        }
      ]
    },
    {
      "cell_type": "code",
      "source": [
        "def click(p):\n",
        "  try:\n",
        "    p.click()\n",
        "  except:\n",
        "    pass"
      ],
      "metadata": {
        "id": "MsObOacrt1x2"
      },
      "execution_count": 13,
      "outputs": []
    },
    {
      "cell_type": "code",
      "source": [
        "d_x = [click(x) for x in xx]\n",
        "d_y = [click(y) for y in yy]"
      ],
      "metadata": {
        "id": "BL6BfGjLuRHZ"
      },
      "execution_count": 14,
      "outputs": []
    },
    {
      "cell_type": "code",
      "source": [
        "containers = [x.get_attribute('innerHTML') for x in browser.find_elements(By.XPATH,\"//div[@class='review-container']\")] #inner html , not selenium outcome\n"
      ],
      "metadata": {
        "id": "CjyZNtuWuhtQ"
      },
      "execution_count": 15,
      "outputs": []
    },
    {
      "cell_type": "code",
      "source": [
        "len(containers)"
      ],
      "metadata": {
        "colab": {
          "base_uri": "https://localhost:8080/"
        },
        "id": "z5MsdnBYvzlk",
        "outputId": "de1c67fb-15a4-4af1-cf12-085cef44bf99"
      },
      "execution_count": 16,
      "outputs": [
        {
          "output_type": "execute_result",
          "data": {
            "text/plain": [
              "150"
            ]
          },
          "metadata": {},
          "execution_count": 16
        }
      ]
    },
    {
      "cell_type": "code",
      "source": [
        "containers[0]"
      ],
      "metadata": {
        "colab": {
          "base_uri": "https://localhost:8080/",
          "height": 140
        },
        "id": "ERrgl9nVwe6m",
        "outputId": "fdbd5e19-1bc6-4a22-c4b4-273975416c28"
      },
      "execution_count": 18,
      "outputs": [
        {
          "output_type": "execute_result",
          "data": {
            "text/plain": [
              "'\\n        <div class=\"lister-item-content\">\\n    <div class=\"ipl-ratings-bar\">\\n            <span class=\"rating-other-user-rating\">\\n            <svg class=\"ipl-icon ipl-star-icon  \" xmlns=\"http://www.w3.org/2000/svg\" fill=\"#000000\" height=\"24\" viewBox=\"0 0 24 24\" width=\"24\">\\n                <path d=\"M0 0h24v24H0z\" fill=\"none\"></path>\\n                <path d=\"M12 17.27L18.18 21l-1.64-7.03L22 9.24l-7.19-.61L12 2 9.19 8.63 2 9.24l5.46 4.73L5.82 21z\"></path>\\n                <path d=\"M0 0h24v24H0z\" fill=\"none\"></path>\\n            </svg>\\n                <span>10</span><span class=\"point-scale\">/10</span>\\n            </span>\\n    </div>\\n<a href=\"/review/rw3248454/?ref_=tt_urv\" class=\"title\"> Out of this world\\n</a>            <div class=\"display-name-date\">\\n                    <span class=\"display-name-link\"><a href=\"/user/ur5876717/?ref_=tt_urv\">kosmasp</a></span><span class=\"review-date\">31 May 2015</span>\\n            </div>\\n            <div class=\"content\">\\n                <div class=\"text show-more__control\">A lot has been said and written about Interstellar. You can obviously take apart any movie that is out there. You\\'ll either love this one or you won\\'t. I kind of would have loved to have watched this on an IMAX screen, the sheer scope of the whole thing. It\\'s just amazing, what Nolan has put on screen here. It\\'s not only the visual experience (there is no 3D here by the way), it\\'s the story/ride you take with it. It might be clear to some earlier than to others, where it\\'s heading (no pun intended), but it doesn\\'t change the fact that it\\'s beautiful ... and terrifying at the same time.<br><br>Going out and saying this will be considered a classic, might not be too far stretched, but you still can never predict those things. The deserved love the movie gets on IMDb and other places would be an indicator that this will ring true though. The acting is really good, but I can understand if some people have issues with the ending. But the movie had to end in one way or another. It\\'s the best possible way this could go, even if it\\'s not in our grasps just yet ...</div>\\n                <div class=\"actions text-muted\">\\n                    264 out of 291 found this helpful.\\n                        <span>\\n                            Was this review helpful? <a href=\"/registration/signin?ref_=urv\"> Sign in</a> to vote.\\n                        </span>\\n                        <br>\\n                    <a href=\"/review/rw3248454/?ref_=tt_urv\">Permalink</a>\\n                </div>\\n            </div>\\n        </div>\\n        <div class=\"clear\"></div>\\n    '"
            ],
            "application/vnd.google.colaboratory.intrinsic+json": {
              "type": "string"
            }
          },
          "metadata": {},
          "execution_count": 18
        }
      ]
    },
    {
      "cell_type": "code",
      "source": [
        "from bs4 import BeautifulSoup\n",
        "import re"
      ],
      "metadata": {
        "id": "i3lQtd9Ov2N9"
      },
      "execution_count": 21,
      "outputs": []
    },
    {
      "cell_type": "code",
      "source": [
        "reviews = []\n",
        "ratings = []\n",
        "for container in containers:\n",
        "  bsObj = BeautifulSoup(container)\n",
        "  rev = bsObj.find('div',attrs = {'class':'text show-more__control'}).text\n",
        "  reviews.append(rev)\n",
        "\n",
        "  try:\n",
        "    r = bsObj.find('span',attrs = {'class':'rating-other-user-rating'}).text\n",
        "    r = re.sub(\"\\\\n\",\"\",r)\n",
        "    r = re.sub(\"/10\",\"\",r)\n",
        "    ratings.append(float(r))\n",
        "  except:\n",
        "    ratings.append(np.nan)"
      ],
      "metadata": {
        "id": "cOF7TcgRwB72"
      },
      "execution_count": 27,
      "outputs": []
    },
    {
      "cell_type": "code",
      "source": [
        "ratings"
      ],
      "metadata": {
        "colab": {
          "base_uri": "https://localhost:8080/"
        },
        "id": "cq-SkZV3zv5q",
        "outputId": "ef15c64a-3e7f-4a75-ec94-c69360829ce4"
      },
      "execution_count": 28,
      "outputs": [
        {
          "output_type": "execute_result",
          "data": {
            "text/plain": [
              "[10.0,\n",
              " 10.0,\n",
              " 10.0,\n",
              " 9.0,\n",
              " 9.0,\n",
              " 10.0,\n",
              " 10.0,\n",
              " 10.0,\n",
              " nan,\n",
              " 8.0,\n",
              " 9.0,\n",
              " 10.0,\n",
              " 10.0,\n",
              " 10.0,\n",
              " 10.0,\n",
              " 10.0,\n",
              " 10.0,\n",
              " 10.0,\n",
              " 9.0,\n",
              " 10.0,\n",
              " 10.0,\n",
              " 10.0,\n",
              " 10.0,\n",
              " 9.0,\n",
              " 9.0,\n",
              " 9.0,\n",
              " nan,\n",
              " 9.0,\n",
              " 10.0,\n",
              " 10.0,\n",
              " 10.0,\n",
              " 10.0,\n",
              " 9.0,\n",
              " 7.0,\n",
              " 9.0,\n",
              " 10.0,\n",
              " 10.0,\n",
              " 8.0,\n",
              " 10.0,\n",
              " 8.0,\n",
              " 10.0,\n",
              " 10.0,\n",
              " 10.0,\n",
              " 9.0,\n",
              " 10.0,\n",
              " 10.0,\n",
              " 10.0,\n",
              " 10.0,\n",
              " 10.0,\n",
              " 10.0,\n",
              " 5.0,\n",
              " 9.0,\n",
              " 8.0,\n",
              " 6.0,\n",
              " 10.0,\n",
              " 5.0,\n",
              " 1.0,\n",
              " nan,\n",
              " 8.0,\n",
              " 8.0,\n",
              " 4.0,\n",
              " 10.0,\n",
              " 6.0,\n",
              " 7.0,\n",
              " 10.0,\n",
              " 1.0,\n",
              " 6.0,\n",
              " 10.0,\n",
              " nan,\n",
              " 10.0,\n",
              " 10.0,\n",
              " 10.0,\n",
              " 10.0,\n",
              " 8.0,\n",
              " 8.0,\n",
              " 8.0,\n",
              " 1.0,\n",
              " 10.0,\n",
              " 8.0,\n",
              " 9.0,\n",
              " 7.0,\n",
              " 10.0,\n",
              " 1.0,\n",
              " 10.0,\n",
              " 1.0,\n",
              " 4.0,\n",
              " 10.0,\n",
              " 10.0,\n",
              " 10.0,\n",
              " 10.0,\n",
              " 10.0,\n",
              " 5.0,\n",
              " 10.0,\n",
              " 10.0,\n",
              " 10.0,\n",
              " 10.0,\n",
              " 3.0,\n",
              " 10.0,\n",
              " 1.0,\n",
              " 10.0,\n",
              " 1.0,\n",
              " 1.0,\n",
              " 10.0,\n",
              " nan,\n",
              " 6.0,\n",
              " 10.0,\n",
              " 10.0,\n",
              " 10.0,\n",
              " 9.0,\n",
              " 2.0,\n",
              " 7.0,\n",
              " 10.0,\n",
              " 1.0,\n",
              " 1.0,\n",
              " 1.0,\n",
              " nan,\n",
              " 10.0,\n",
              " 5.0,\n",
              " 6.0,\n",
              " 2.0,\n",
              " 9.0,\n",
              " 10.0,\n",
              " 10.0,\n",
              " 3.0,\n",
              " 10.0,\n",
              " 6.0,\n",
              " 4.0,\n",
              " 10.0,\n",
              " 1.0,\n",
              " 10.0,\n",
              " 6.0,\n",
              " 1.0,\n",
              " 4.0,\n",
              " 2.0,\n",
              " nan,\n",
              " 5.0,\n",
              " 1.0,\n",
              " 6.0,\n",
              " 3.0,\n",
              " 10.0,\n",
              " 10.0,\n",
              " 5.0,\n",
              " 4.0,\n",
              " 10.0,\n",
              " 9.0,\n",
              " 6.0,\n",
              " 9.0,\n",
              " 7.0,\n",
              " 1.0,\n",
              " 3.0]"
            ]
          },
          "metadata": {},
          "execution_count": 28
        }
      ]
    },
    {
      "cell_type": "code",
      "source": [
        "df = pd.DataFrame(columns = [\"Reviews\",\"Ratings\"])\n",
        "df[\"Reviews\"] = reviews\n",
        "df[\"Ratings\"] = ratings\n",
        "\n",
        "df.head(10)"
      ],
      "metadata": {
        "colab": {
          "base_uri": "https://localhost:8080/",
          "height": 363
        },
        "id": "SQnqg6kVzyWk",
        "outputId": "82aa14ef-1e5b-49a4-e1cd-09412fb2b383"
      },
      "execution_count": 30,
      "outputs": [
        {
          "output_type": "execute_result",
          "data": {
            "text/plain": [
              "                                             Reviews  Ratings\n",
              "0  A lot has been said and written about Interste...     10.0\n",
              "1  After watching this insane movie in the theatr...     10.0\n",
              "2  Interstellar is a movie like no other. Unlike ...     10.0\n",
              "3  Set in a future where crop species are going e...      9.0\n",
              "4  A team of explorers travel through a wormhole ...      9.0\n",
              "5  I judge a movie by how long it takes me to rea...     10.0\n",
              "6  I hadn't seen this but movie and caught it on ...     10.0\n",
              "7  Hollywood science fiction spectacles about ant...     10.0\n",
              "8  I was extremely lucky to get the chance to see...      NaN\n",
              "9  To this day , many people still talk a lot abo...      8.0"
            ],
            "text/html": [
              "\n",
              "  <div id=\"df-2e091476-c78c-42fd-86fe-404ff23902a9\">\n",
              "    <div class=\"colab-df-container\">\n",
              "      <div>\n",
              "<style scoped>\n",
              "    .dataframe tbody tr th:only-of-type {\n",
              "        vertical-align: middle;\n",
              "    }\n",
              "\n",
              "    .dataframe tbody tr th {\n",
              "        vertical-align: top;\n",
              "    }\n",
              "\n",
              "    .dataframe thead th {\n",
              "        text-align: right;\n",
              "    }\n",
              "</style>\n",
              "<table border=\"1\" class=\"dataframe\">\n",
              "  <thead>\n",
              "    <tr style=\"text-align: right;\">\n",
              "      <th></th>\n",
              "      <th>Reviews</th>\n",
              "      <th>Ratings</th>\n",
              "    </tr>\n",
              "  </thead>\n",
              "  <tbody>\n",
              "    <tr>\n",
              "      <th>0</th>\n",
              "      <td>A lot has been said and written about Interste...</td>\n",
              "      <td>10.0</td>\n",
              "    </tr>\n",
              "    <tr>\n",
              "      <th>1</th>\n",
              "      <td>After watching this insane movie in the theatr...</td>\n",
              "      <td>10.0</td>\n",
              "    </tr>\n",
              "    <tr>\n",
              "      <th>2</th>\n",
              "      <td>Interstellar is a movie like no other. Unlike ...</td>\n",
              "      <td>10.0</td>\n",
              "    </tr>\n",
              "    <tr>\n",
              "      <th>3</th>\n",
              "      <td>Set in a future where crop species are going e...</td>\n",
              "      <td>9.0</td>\n",
              "    </tr>\n",
              "    <tr>\n",
              "      <th>4</th>\n",
              "      <td>A team of explorers travel through a wormhole ...</td>\n",
              "      <td>9.0</td>\n",
              "    </tr>\n",
              "    <tr>\n",
              "      <th>5</th>\n",
              "      <td>I judge a movie by how long it takes me to rea...</td>\n",
              "      <td>10.0</td>\n",
              "    </tr>\n",
              "    <tr>\n",
              "      <th>6</th>\n",
              "      <td>I hadn't seen this but movie and caught it on ...</td>\n",
              "      <td>10.0</td>\n",
              "    </tr>\n",
              "    <tr>\n",
              "      <th>7</th>\n",
              "      <td>Hollywood science fiction spectacles about ant...</td>\n",
              "      <td>10.0</td>\n",
              "    </tr>\n",
              "    <tr>\n",
              "      <th>8</th>\n",
              "      <td>I was extremely lucky to get the chance to see...</td>\n",
              "      <td>NaN</td>\n",
              "    </tr>\n",
              "    <tr>\n",
              "      <th>9</th>\n",
              "      <td>To this day , many people still talk a lot abo...</td>\n",
              "      <td>8.0</td>\n",
              "    </tr>\n",
              "  </tbody>\n",
              "</table>\n",
              "</div>\n",
              "      <button class=\"colab-df-convert\" onclick=\"convertToInteractive('df-2e091476-c78c-42fd-86fe-404ff23902a9')\"\n",
              "              title=\"Convert this dataframe to an interactive table.\"\n",
              "              style=\"display:none;\">\n",
              "        \n",
              "  <svg xmlns=\"http://www.w3.org/2000/svg\" height=\"24px\"viewBox=\"0 0 24 24\"\n",
              "       width=\"24px\">\n",
              "    <path d=\"M0 0h24v24H0V0z\" fill=\"none\"/>\n",
              "    <path d=\"M18.56 5.44l.94 2.06.94-2.06 2.06-.94-2.06-.94-.94-2.06-.94 2.06-2.06.94zm-11 1L8.5 8.5l.94-2.06 2.06-.94-2.06-.94L8.5 2.5l-.94 2.06-2.06.94zm10 10l.94 2.06.94-2.06 2.06-.94-2.06-.94-.94-2.06-.94 2.06-2.06.94z\"/><path d=\"M17.41 7.96l-1.37-1.37c-.4-.4-.92-.59-1.43-.59-.52 0-1.04.2-1.43.59L10.3 9.45l-7.72 7.72c-.78.78-.78 2.05 0 2.83L4 21.41c.39.39.9.59 1.41.59.51 0 1.02-.2 1.41-.59l7.78-7.78 2.81-2.81c.8-.78.8-2.07 0-2.86zM5.41 20L4 18.59l7.72-7.72 1.47 1.35L5.41 20z\"/>\n",
              "  </svg>\n",
              "      </button>\n",
              "      \n",
              "  <style>\n",
              "    .colab-df-container {\n",
              "      display:flex;\n",
              "      flex-wrap:wrap;\n",
              "      gap: 12px;\n",
              "    }\n",
              "\n",
              "    .colab-df-convert {\n",
              "      background-color: #E8F0FE;\n",
              "      border: none;\n",
              "      border-radius: 50%;\n",
              "      cursor: pointer;\n",
              "      display: none;\n",
              "      fill: #1967D2;\n",
              "      height: 32px;\n",
              "      padding: 0 0 0 0;\n",
              "      width: 32px;\n",
              "    }\n",
              "\n",
              "    .colab-df-convert:hover {\n",
              "      background-color: #E2EBFA;\n",
              "      box-shadow: 0px 1px 2px rgba(60, 64, 67, 0.3), 0px 1px 3px 1px rgba(60, 64, 67, 0.15);\n",
              "      fill: #174EA6;\n",
              "    }\n",
              "\n",
              "    [theme=dark] .colab-df-convert {\n",
              "      background-color: #3B4455;\n",
              "      fill: #D2E3FC;\n",
              "    }\n",
              "\n",
              "    [theme=dark] .colab-df-convert:hover {\n",
              "      background-color: #434B5C;\n",
              "      box-shadow: 0px 1px 3px 1px rgba(0, 0, 0, 0.15);\n",
              "      filter: drop-shadow(0px 1px 2px rgba(0, 0, 0, 0.3));\n",
              "      fill: #FFFFFF;\n",
              "    }\n",
              "  </style>\n",
              "\n",
              "      <script>\n",
              "        const buttonEl =\n",
              "          document.querySelector('#df-2e091476-c78c-42fd-86fe-404ff23902a9 button.colab-df-convert');\n",
              "        buttonEl.style.display =\n",
              "          google.colab.kernel.accessAllowed ? 'block' : 'none';\n",
              "\n",
              "        async function convertToInteractive(key) {\n",
              "          const element = document.querySelector('#df-2e091476-c78c-42fd-86fe-404ff23902a9');\n",
              "          const dataTable =\n",
              "            await google.colab.kernel.invokeFunction('convertToInteractive',\n",
              "                                                     [key], {});\n",
              "          if (!dataTable) return;\n",
              "\n",
              "          const docLinkHtml = 'Like what you see? Visit the ' +\n",
              "            '<a target=\"_blank\" href=https://colab.research.google.com/notebooks/data_table.ipynb>data table notebook</a>'\n",
              "            + ' to learn more about interactive tables.';\n",
              "          element.innerHTML = '';\n",
              "          dataTable['output_type'] = 'display_data';\n",
              "          await google.colab.output.renderOutput(dataTable, element);\n",
              "          const docLink = document.createElement('div');\n",
              "          docLink.innerHTML = docLinkHtml;\n",
              "          element.appendChild(docLink);\n",
              "        }\n",
              "      </script>\n",
              "    </div>\n",
              "  </div>\n",
              "  "
            ]
          },
          "metadata": {},
          "execution_count": 30
        }
      ]
    },
    {
      "cell_type": "code",
      "source": [
        ""
      ],
      "metadata": {
        "id": "7MWtD7uU00Lm"
      },
      "execution_count": null,
      "outputs": []
    }
  ]
}