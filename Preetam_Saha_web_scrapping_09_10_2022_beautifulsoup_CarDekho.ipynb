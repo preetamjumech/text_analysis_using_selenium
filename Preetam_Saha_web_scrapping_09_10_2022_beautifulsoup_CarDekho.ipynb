{
  "nbformat": 4,
  "nbformat_minor": 0,
  "metadata": {
    "colab": {
      "provenance": [],
      "collapsed_sections": [],
      "authorship_tag": "ABX9TyOd4JyurSwSp+Vj9QBuREjC",
      "include_colab_link": true
    },
    "kernelspec": {
      "name": "python3",
      "display_name": "Python 3"
    },
    "language_info": {
      "name": "python"
    }
  },
  "cells": [
    {
      "cell_type": "markdown",
      "metadata": {
        "id": "view-in-github",
        "colab_type": "text"
      },
      "source": [
        "<a href=\"https://colab.research.google.com/github/preetamjumech/text_analysis_using_selenium/blob/main/Preetam_Saha_web_scrapping_09_10_2022_beautifulsoup_CarDekho.ipynb\" target=\"_parent\"><img src=\"https://colab.research.google.com/assets/colab-badge.svg\" alt=\"Open In Colab\"/></a>"
      ]
    },
    {
      "cell_type": "code",
      "execution_count": 1,
      "metadata": {
        "colab": {
          "base_uri": "https://localhost:8080/"
        },
        "id": "3U36meDne61H",
        "outputId": "6f28ec29-200a-4436-a169-1effcc111133"
      },
      "outputs": [
        {
          "output_type": "stream",
          "name": "stdout",
          "text": [
            "Looking in indexes: https://pypi.org/simple, https://us-python.pkg.dev/colab-wheels/public/simple/\n",
            "Collecting kora\n",
            "  Downloading kora-0.9.20-py3-none-any.whl (57 kB)\n",
            "\u001b[K     |████████████████████████████████| 57 kB 3.4 MB/s \n",
            "\u001b[?25hRequirement already satisfied: ipython in /usr/local/lib/python3.7/dist-packages (from kora) (7.9.0)\n",
            "Requirement already satisfied: fastcore in /usr/local/lib/python3.7/dist-packages (from kora) (1.5.27)\n",
            "Requirement already satisfied: packaging in /usr/local/lib/python3.7/dist-packages (from fastcore->kora) (21.3)\n",
            "Requirement already satisfied: pip in /usr/local/lib/python3.7/dist-packages (from fastcore->kora) (21.1.3)\n",
            "Collecting jedi>=0.10\n",
            "  Downloading jedi-0.18.1-py2.py3-none-any.whl (1.6 MB)\n",
            "\u001b[K     |████████████████████████████████| 1.6 MB 15.1 MB/s \n",
            "\u001b[?25hRequirement already satisfied: pickleshare in /usr/local/lib/python3.7/dist-packages (from ipython->kora) (0.7.5)\n",
            "Requirement already satisfied: backcall in /usr/local/lib/python3.7/dist-packages (from ipython->kora) (0.2.0)\n",
            "Requirement already satisfied: prompt-toolkit<2.1.0,>=2.0.0 in /usr/local/lib/python3.7/dist-packages (from ipython->kora) (2.0.10)\n",
            "Requirement already satisfied: traitlets>=4.2 in /usr/local/lib/python3.7/dist-packages (from ipython->kora) (5.1.1)\n",
            "Requirement already satisfied: setuptools>=18.5 in /usr/local/lib/python3.7/dist-packages (from ipython->kora) (57.4.0)\n",
            "Requirement already satisfied: pygments in /usr/local/lib/python3.7/dist-packages (from ipython->kora) (2.6.1)\n",
            "Requirement already satisfied: pexpect in /usr/local/lib/python3.7/dist-packages (from ipython->kora) (4.8.0)\n",
            "Requirement already satisfied: decorator in /usr/local/lib/python3.7/dist-packages (from ipython->kora) (4.4.2)\n",
            "Requirement already satisfied: parso<0.9.0,>=0.8.0 in /usr/local/lib/python3.7/dist-packages (from jedi>=0.10->ipython->kora) (0.8.3)\n",
            "Requirement already satisfied: wcwidth in /usr/local/lib/python3.7/dist-packages (from prompt-toolkit<2.1.0,>=2.0.0->ipython->kora) (0.2.5)\n",
            "Requirement already satisfied: six>=1.9.0 in /usr/local/lib/python3.7/dist-packages (from prompt-toolkit<2.1.0,>=2.0.0->ipython->kora) (1.15.0)\n",
            "Requirement already satisfied: pyparsing!=3.0.5,>=2.0.2 in /usr/local/lib/python3.7/dist-packages (from packaging->fastcore->kora) (3.0.9)\n",
            "Requirement already satisfied: ptyprocess>=0.5 in /usr/local/lib/python3.7/dist-packages (from pexpect->ipython->kora) (0.7.0)\n",
            "Installing collected packages: jedi, kora\n",
            "Successfully installed jedi-0.18.1 kora-0.9.20\n",
            "Looking in indexes: https://pypi.org/simple, https://us-python.pkg.dev/colab-wheels/public/simple/\n",
            "Collecting selenium\n",
            "  Downloading selenium-4.5.0-py3-none-any.whl (995 kB)\n",
            "\u001b[K     |████████████████████████████████| 995 kB 7.9 MB/s \n",
            "\u001b[?25hRequirement already satisfied: certifi>=2021.10.8 in /usr/local/lib/python3.7/dist-packages (from selenium) (2022.9.24)\n",
            "Collecting trio~=0.17\n",
            "  Downloading trio-0.22.0-py3-none-any.whl (384 kB)\n",
            "\u001b[K     |████████████████████████████████| 384 kB 36.1 MB/s \n",
            "\u001b[?25hCollecting urllib3[socks]~=1.26\n",
            "  Downloading urllib3-1.26.12-py2.py3-none-any.whl (140 kB)\n",
            "\u001b[K     |████████████████████████████████| 140 kB 42.2 MB/s \n",
            "\u001b[?25hCollecting trio-websocket~=0.9\n",
            "  Downloading trio_websocket-0.9.2-py3-none-any.whl (16 kB)\n",
            "Requirement already satisfied: sortedcontainers in /usr/local/lib/python3.7/dist-packages (from trio~=0.17->selenium) (2.4.0)\n",
            "Requirement already satisfied: attrs>=19.2.0 in /usr/local/lib/python3.7/dist-packages (from trio~=0.17->selenium) (22.1.0)\n",
            "Collecting exceptiongroup>=1.0.0rc9\n",
            "  Downloading exceptiongroup-1.0.0rc9-py3-none-any.whl (12 kB)\n",
            "Requirement already satisfied: idna in /usr/local/lib/python3.7/dist-packages (from trio~=0.17->selenium) (2.10)\n",
            "Collecting async-generator>=1.9\n",
            "  Downloading async_generator-1.10-py3-none-any.whl (18 kB)\n",
            "Collecting sniffio\n",
            "  Downloading sniffio-1.3.0-py3-none-any.whl (10 kB)\n",
            "Collecting outcome\n",
            "  Downloading outcome-1.2.0-py2.py3-none-any.whl (9.7 kB)\n",
            "Collecting wsproto>=0.14\n",
            "  Downloading wsproto-1.2.0-py3-none-any.whl (24 kB)\n",
            "Requirement already satisfied: PySocks!=1.5.7,<2.0,>=1.5.6 in /usr/local/lib/python3.7/dist-packages (from urllib3[socks]~=1.26->selenium) (1.7.1)\n",
            "Collecting h11<1,>=0.9.0\n",
            "  Downloading h11-0.14.0-py3-none-any.whl (58 kB)\n",
            "\u001b[K     |████████████████████████████████| 58 kB 4.5 MB/s \n",
            "\u001b[?25hRequirement already satisfied: typing-extensions in /usr/local/lib/python3.7/dist-packages (from h11<1,>=0.9.0->wsproto>=0.14->trio-websocket~=0.9->selenium) (4.1.1)\n",
            "Installing collected packages: sniffio, outcome, h11, exceptiongroup, async-generator, wsproto, urllib3, trio, trio-websocket, selenium\n",
            "  Attempting uninstall: urllib3\n",
            "    Found existing installation: urllib3 1.24.3\n",
            "    Uninstalling urllib3-1.24.3:\n",
            "      Successfully uninstalled urllib3-1.24.3\n",
            "\u001b[31mERROR: pip's dependency resolver does not currently take into account all the packages that are installed. This behaviour is the source of the following dependency conflicts.\n",
            "requests 2.23.0 requires urllib3!=1.25.0,!=1.25.1,<1.26,>=1.21.1, but you have urllib3 1.26.12 which is incompatible.\u001b[0m\n",
            "Successfully installed async-generator-1.10 exceptiongroup-1.0.0rc9 h11-0.14.0 outcome-1.2.0 selenium-4.5.0 sniffio-1.3.0 trio-0.22.0 trio-websocket-0.9.2 urllib3-1.26.12 wsproto-1.2.0\n"
          ]
        }
      ],
      "source": [
        "!pip install kora\n",
        "!pip install selenium"
      ]
    },
    {
      "cell_type": "code",
      "source": [
        "from kora.selenium import wd as browser\n",
        "from selenium.webdriver.common.by import By\n",
        "import pandas as pd\n",
        "import numpy as np\n",
        "import time"
      ],
      "metadata": {
        "id": "res2Yzp3e-xA"
      },
      "execution_count": 2,
      "outputs": []
    },
    {
      "cell_type": "code",
      "source": [
        "url = \"https://www.cardekho.com/maruti/brezza/user-reviews\""
      ],
      "metadata": {
        "id": "9FVjQyXLfIwK"
      },
      "execution_count": 3,
      "outputs": []
    },
    {
      "cell_type": "code",
      "source": [
        "browser.get(url)"
      ],
      "metadata": {
        "id": "Jpi5ddqafS9v"
      },
      "execution_count": 4,
      "outputs": []
    },
    {
      "cell_type": "code",
      "source": [
        "containers = [x.get_attribute('innerHTML') for x in browser.find_elements(By.XPATH,\"//div[@class='readReviewBox']\")]\n",
        "containers[0]"
      ],
      "metadata": {
        "colab": {
          "base_uri": "https://localhost:8080/",
          "height": 105
        },
        "id": "u9qwdoxAfYtA",
        "outputId": "acf992f7-32d3-4047-d1a5-0e8bdeb73e9a"
      },
      "execution_count": 5,
      "outputs": [
        {
          "output_type": "execute_result",
          "data": {
            "text/plain": [
              "'<div class=\"readReviewHolder\"><div class=\"rating\"><div class=\"starRating\"><span><span class=\"stars stars1 icon-star-full-fill \" title=\"1\" data-index=\"1\"></span><span class=\"stars stars2 icon-star-full-fill \" title=\"2\" data-index=\"2\"></span><span class=\"stars stars3 icon-star-full-fill \" title=\"3\" data-index=\"3\"></span><span class=\"stars stars4 icon-star-full-fill \" title=\"4\" data-index=\"4\"></span><span class=\"stars stars5 icon-star-full-fill \" title=\"5\" data-index=\"5\"></span></span></div></div><div class=\"contentspace\"><h3><a title=\"Best Car\" href=\"/user-review/maruti-brezza/best-car-206144.htm\">Best Car</a></h3><p class=\"contentheight\"><span>I have booked Brezza 2 months ago, its waiting period is 6 months but features are more than the waiting period so I can wait for Brezza. I have not seen such features at this price in any other car. Better built quality, better mileage, seats are comfortable and having large boot space, I feel nice to book this car.</span><span class=\"link hover\">Read More</span></p></div><div class=\" authorInfo authordetail\"><div class=\"authorSummary\"><div class=\"name\">By sheetal kumar</div><div class=\"date\">On: Oct 09, 2022  | 1419 Views</div></div></div><div><ul class=\"action\"><li><span class=\"hover\"><i class=\"icon-like-line\"></i>1 Likes</span></li><li><span><a href=\"#\" title=\"Write Comment\"><i class=\"icon-cd-comments\"></i>Write Comment</a></span></li><li><div class=\"share\"><div title=\"Social Share\" data-track-section=\"SocialShare\" data-dropdown-box=\"share\"><i class=\"icon-reply ic-share\"></i>  Share</div><div class=\"SocialBox hide\"><div class=\"title\">Share this car</div><ul class=\"clearfix\"><li><a href=\"#\" target=\"_blank\" rel=\"noopener\"><i class=\"icon-cd_facebook icon fbicon\"></i><span class=\"text\">Facebook</span></a></li><li><a href=\"#\" target=\"_blank\" rel=\"noopener\"><i class=\"icon-cd_twitter icon twicon\"></i><span class=\"text\">Twitter</span></a></li><li class=\"hidden-md hidden-lg hidden-sm\"><a href=\"#\" target=\"_blank\" rel=\"noopener\"><div class=\"icon-cd-whatsapp icon\"></div><div class=\"text\">WhatsApp</div></a></li></ul><span class=\"closebox\" title=\"Close\">×</span></div></div></li></ul></div></div>'"
            ],
            "application/vnd.google.colaboratory.intrinsic+json": {
              "type": "string"
            }
          },
          "metadata": {},
          "execution_count": 5
        }
      ]
    },
    {
      "cell_type": "code",
      "source": [
        "len(containers)"
      ],
      "metadata": {
        "colab": {
          "base_uri": "https://localhost:8080/"
        },
        "id": "xxI5Qb_egika",
        "outputId": "fc6b41e0-23a6-4664-d749-46a06def5672"
      },
      "execution_count": 6,
      "outputs": [
        {
          "output_type": "execute_result",
          "data": {
            "text/plain": [
              "30"
            ]
          },
          "metadata": {},
          "execution_count": 6
        }
      ]
    },
    {
      "cell_type": "code",
      "source": [
        "from bs4 import BeautifulSoup"
      ],
      "metadata": {
        "id": "vYhrTxzcgv9c"
      },
      "execution_count": 7,
      "outputs": []
    },
    {
      "cell_type": "code",
      "source": [
        "reviews=[]\n",
        "dates=[]\n",
        "\n",
        "for container in containers:\n",
        "  bsObj = BeautifulSoup(container)\n",
        "  rev = bsObj.find(\"div\",attrs={\"class\":\"contentspace\"}).text.strip()\n",
        "  reviews.append(rev)\n",
        "\n",
        "  dt = bsObj.find(\"div\",attrs={\"class\":\"date\"}).text.strip()\n",
        "  dates.append(dt)"
      ],
      "metadata": {
        "id": "SgW2ls6BgzlF"
      },
      "execution_count": 9,
      "outputs": []
    },
    {
      "cell_type": "code",
      "source": [
        "reviews[0]"
      ],
      "metadata": {
        "colab": {
          "base_uri": "https://localhost:8080/",
          "height": 53
        },
        "id": "k-kT0XsZiFqp",
        "outputId": "723ef12d-baa6-479f-d6d8-d7dbc581d8d6"
      },
      "execution_count": 10,
      "outputs": [
        {
          "output_type": "execute_result",
          "data": {
            "text/plain": [
              "'Best CarI have booked Brezza 2 months ago, its waiting period is 6 months but features are more than the waiting period so I can wait for Brezza. I have not seen such features at this price in any other car. Better built quality, better mileage, seats are comfortable and having large boot space, I feel nice to book this car.Read More'"
            ],
            "application/vnd.google.colaboratory.intrinsic+json": {
              "type": "string"
            }
          },
          "metadata": {},
          "execution_count": 10
        }
      ]
    },
    {
      "cell_type": "code",
      "source": [
        "dates"
      ],
      "metadata": {
        "colab": {
          "base_uri": "https://localhost:8080/"
        },
        "id": "3CiB9oGkiRZx",
        "outputId": "c909de22-03be-4d94-e38e-e789b37b4197"
      },
      "execution_count": 11,
      "outputs": [
        {
          "output_type": "execute_result",
          "data": {
            "text/plain": [
              "['On: Oct 09, 2022  | 1419 Views',\n",
              " 'On: Oct 07, 2022  | 649 Views',\n",
              " 'On: Oct 07, 2022  | 1339 Views',\n",
              " 'On: Oct 07, 2022  | 107 Views',\n",
              " 'On: Oct 07, 2022  | 272 Views',\n",
              " 'On: Oct 05, 2022  | 817 Views',\n",
              " 'On: Oct 05, 2022  | 104 Views',\n",
              " 'On: Oct 04, 2022  | 184 Views',\n",
              " 'On: Oct 03, 2022  | 113 Views',\n",
              " 'On: Oct 01, 2022  | 228 Views',\n",
              " 'On: Sep 29, 2022  | 1777 Views',\n",
              " 'On: Sep 29, 2022  | 974 Views',\n",
              " 'On: Sep 28, 2022  | 242 Views',\n",
              " 'On: Sep 27, 2022  | 740 Views',\n",
              " 'On: Sep 27, 2022  | 1684 Views',\n",
              " 'On: Sep 27, 2022  | 286 Views',\n",
              " 'On: Sep 27, 2022  | 477 Views',\n",
              " 'On: Sep 26, 2022  | 941 Views',\n",
              " 'On: Sep 26, 2022  | 231 Views',\n",
              " 'On: Sep 25, 2022  | 243 Views',\n",
              " 'On: Sep 25, 2022  | 1706 Views',\n",
              " 'On: Sep 25, 2022  | 227 Views',\n",
              " 'On: Sep 23, 2022  | 265 Views',\n",
              " 'On: Sep 23, 2022  | 1142 Views',\n",
              " 'On: Sep 22, 2022  | 263 Views',\n",
              " 'On: Sep 22, 2022  | 1162 Views',\n",
              " 'On: Sep 22, 2022  | 627 Views',\n",
              " 'On: Sep 21, 2022  | 1036 Views',\n",
              " 'On: Sep 21, 2022  | 287 Views',\n",
              " 'On: Sep 21, 2022  | 277 Views']"
            ]
          },
          "metadata": {},
          "execution_count": 11
        }
      ]
    },
    {
      "cell_type": "code",
      "source": [
        "for page in range(2,6):\n",
        "  url = f\"https://www.cardekho.com/maruti/brezza/user-reviews/{page}\"\n",
        "  browser.get(url)\n",
        "  containers = [x.get_attribute('innerHTML') for x in browser.find_elements(By.XPATH,\"//div[@class='readReviewBox']\")]"
      ],
      "metadata": {
        "id": "wUMk7uRCk-kX"
      },
      "execution_count": 26,
      "outputs": []
    },
    {
      "cell_type": "code",
      "source": [
        "containers"
      ],
      "metadata": {
        "id": "8x7-UUjjqllF"
      },
      "execution_count": null,
      "outputs": []
    },
    {
      "cell_type": "code",
      "source": [
        "def click(p):\n",
        "  try:\n",
        "    p.click()\n",
        "  except:\n",
        "    pass"
      ],
      "metadata": {
        "id": "RfvrOqPfpB1N"
      },
      "execution_count": 22,
      "outputs": []
    },
    {
      "cell_type": "code",
      "source": [
        "dataset = []\n",
        "for page in range(2,6):\n",
        "  url = f\"https://www.cardekho.com/maruti/brezza/user-reviews/{page}\"\n",
        "  browser.get(url)\n",
        "  #xx = browser.find_elements(By.XPATH,\"//span[@class='link hover']\")\n",
        "  #d_x = [click(x) for x in xx]\n",
        "  containers = [x.get_attribute('innerHTML') for x in browser.find_elements(By.XPATH,\"//div[@class='readReviewBox']\")]\n",
        "\n",
        "  #print(len(containers))\n",
        "  for container in containers:\n",
        "    bsObj = BeautifulSoup(container)\n",
        "    rev = bsObj.find(\"div\",attrs={\"class\":\"contentspace\"}).text\n",
        "\n",
        "    title = bsObj.find(\"a\")[\"title\"]\n",
        "    name = bsObj.find(\"div\",attrs = {\"class\":\"name\"}).text\n",
        "\n",
        "    info = bsObj.find(\"div\",attrs={\"class\":\"date\"}).text\n",
        "\n",
        "    dataset.append([info,rev,title,name])"
      ],
      "metadata": {
        "id": "-1-Mc2nxpMr-"
      },
      "execution_count": 28,
      "outputs": []
    },
    {
      "cell_type": "code",
      "source": [
        "data_car_dekho = pd.DataFrame(dataset,columns = [\"Info\",\"Reviews\",\"Title\",\"Name\"])"
      ],
      "metadata": {
        "id": "iBb9L8lEp4ec"
      },
      "execution_count": 29,
      "outputs": []
    },
    {
      "cell_type": "code",
      "source": [
        "data_car_dekho.head()"
      ],
      "metadata": {
        "colab": {
          "base_uri": "https://localhost:8080/",
          "height": 206
        },
        "id": "DKq4VqLvqTWH",
        "outputId": "20602037-b6a8-4063-9146-4b84c95e990f"
      },
      "execution_count": 30,
      "outputs": [
        {
          "output_type": "execute_result",
          "data": {
            "text/plain": [
              "                             Info  \\\n",
              "0   On: Sep 20, 2022  | 308 Views   \n",
              "1  On: Sep 19, 2022  | 1197 Views   \n",
              "2   On: Sep 19, 2022  | 286 Views   \n",
              "3   On: Sep 18, 2022  | 940 Views   \n",
              "4   On: Sep 18, 2022  | 270 Views   \n",
              "\n",
              "                                             Reviews  \\\n",
              "0  Great Car In This Price RangeThis is an awesom...   \n",
              "1  Improved A Lot In ComfortThe car is quite good...   \n",
              "2  Powerful CarIt is a powerful car, the best car...   \n",
              "3  Value For Money CarGood car at a good price. T...   \n",
              "4  I Like This CarBest in the segment. It has gre...   \n",
              "\n",
              "                           Title                   Name  \n",
              "0  Great Car In This Price Range       By pankesh meena  \n",
              "1      Improved A Lot In Comfort        By darshan modi  \n",
              "2                   Powerful Car  By dharmendra kumawat  \n",
              "3            Value For Money Car       By harmeet singh  \n",
              "4                I Like This Car            By pradeep   "
            ],
            "text/html": [
              "\n",
              "  <div id=\"df-a2c69b10-7b30-4180-b8f9-98ff68edc61f\">\n",
              "    <div class=\"colab-df-container\">\n",
              "      <div>\n",
              "<style scoped>\n",
              "    .dataframe tbody tr th:only-of-type {\n",
              "        vertical-align: middle;\n",
              "    }\n",
              "\n",
              "    .dataframe tbody tr th {\n",
              "        vertical-align: top;\n",
              "    }\n",
              "\n",
              "    .dataframe thead th {\n",
              "        text-align: right;\n",
              "    }\n",
              "</style>\n",
              "<table border=\"1\" class=\"dataframe\">\n",
              "  <thead>\n",
              "    <tr style=\"text-align: right;\">\n",
              "      <th></th>\n",
              "      <th>Info</th>\n",
              "      <th>Reviews</th>\n",
              "      <th>Title</th>\n",
              "      <th>Name</th>\n",
              "    </tr>\n",
              "  </thead>\n",
              "  <tbody>\n",
              "    <tr>\n",
              "      <th>0</th>\n",
              "      <td>On: Sep 20, 2022  | 308 Views</td>\n",
              "      <td>Great Car In This Price RangeThis is an awesom...</td>\n",
              "      <td>Great Car In This Price Range</td>\n",
              "      <td>By pankesh meena</td>\n",
              "    </tr>\n",
              "    <tr>\n",
              "      <th>1</th>\n",
              "      <td>On: Sep 19, 2022  | 1197 Views</td>\n",
              "      <td>Improved A Lot In ComfortThe car is quite good...</td>\n",
              "      <td>Improved A Lot In Comfort</td>\n",
              "      <td>By darshan modi</td>\n",
              "    </tr>\n",
              "    <tr>\n",
              "      <th>2</th>\n",
              "      <td>On: Sep 19, 2022  | 286 Views</td>\n",
              "      <td>Powerful CarIt is a powerful car, the best car...</td>\n",
              "      <td>Powerful Car</td>\n",
              "      <td>By dharmendra kumawat</td>\n",
              "    </tr>\n",
              "    <tr>\n",
              "      <th>3</th>\n",
              "      <td>On: Sep 18, 2022  | 940 Views</td>\n",
              "      <td>Value For Money CarGood car at a good price. T...</td>\n",
              "      <td>Value For Money Car</td>\n",
              "      <td>By harmeet singh</td>\n",
              "    </tr>\n",
              "    <tr>\n",
              "      <th>4</th>\n",
              "      <td>On: Sep 18, 2022  | 270 Views</td>\n",
              "      <td>I Like This CarBest in the segment. It has gre...</td>\n",
              "      <td>I Like This Car</td>\n",
              "      <td>By pradeep</td>\n",
              "    </tr>\n",
              "  </tbody>\n",
              "</table>\n",
              "</div>\n",
              "      <button class=\"colab-df-convert\" onclick=\"convertToInteractive('df-a2c69b10-7b30-4180-b8f9-98ff68edc61f')\"\n",
              "              title=\"Convert this dataframe to an interactive table.\"\n",
              "              style=\"display:none;\">\n",
              "        \n",
              "  <svg xmlns=\"http://www.w3.org/2000/svg\" height=\"24px\"viewBox=\"0 0 24 24\"\n",
              "       width=\"24px\">\n",
              "    <path d=\"M0 0h24v24H0V0z\" fill=\"none\"/>\n",
              "    <path d=\"M18.56 5.44l.94 2.06.94-2.06 2.06-.94-2.06-.94-.94-2.06-.94 2.06-2.06.94zm-11 1L8.5 8.5l.94-2.06 2.06-.94-2.06-.94L8.5 2.5l-.94 2.06-2.06.94zm10 10l.94 2.06.94-2.06 2.06-.94-2.06-.94-.94-2.06-.94 2.06-2.06.94z\"/><path d=\"M17.41 7.96l-1.37-1.37c-.4-.4-.92-.59-1.43-.59-.52 0-1.04.2-1.43.59L10.3 9.45l-7.72 7.72c-.78.78-.78 2.05 0 2.83L4 21.41c.39.39.9.59 1.41.59.51 0 1.02-.2 1.41-.59l7.78-7.78 2.81-2.81c.8-.78.8-2.07 0-2.86zM5.41 20L4 18.59l7.72-7.72 1.47 1.35L5.41 20z\"/>\n",
              "  </svg>\n",
              "      </button>\n",
              "      \n",
              "  <style>\n",
              "    .colab-df-container {\n",
              "      display:flex;\n",
              "      flex-wrap:wrap;\n",
              "      gap: 12px;\n",
              "    }\n",
              "\n",
              "    .colab-df-convert {\n",
              "      background-color: #E8F0FE;\n",
              "      border: none;\n",
              "      border-radius: 50%;\n",
              "      cursor: pointer;\n",
              "      display: none;\n",
              "      fill: #1967D2;\n",
              "      height: 32px;\n",
              "      padding: 0 0 0 0;\n",
              "      width: 32px;\n",
              "    }\n",
              "\n",
              "    .colab-df-convert:hover {\n",
              "      background-color: #E2EBFA;\n",
              "      box-shadow: 0px 1px 2px rgba(60, 64, 67, 0.3), 0px 1px 3px 1px rgba(60, 64, 67, 0.15);\n",
              "      fill: #174EA6;\n",
              "    }\n",
              "\n",
              "    [theme=dark] .colab-df-convert {\n",
              "      background-color: #3B4455;\n",
              "      fill: #D2E3FC;\n",
              "    }\n",
              "\n",
              "    [theme=dark] .colab-df-convert:hover {\n",
              "      background-color: #434B5C;\n",
              "      box-shadow: 0px 1px 3px 1px rgba(0, 0, 0, 0.15);\n",
              "      filter: drop-shadow(0px 1px 2px rgba(0, 0, 0, 0.3));\n",
              "      fill: #FFFFFF;\n",
              "    }\n",
              "  </style>\n",
              "\n",
              "      <script>\n",
              "        const buttonEl =\n",
              "          document.querySelector('#df-a2c69b10-7b30-4180-b8f9-98ff68edc61f button.colab-df-convert');\n",
              "        buttonEl.style.display =\n",
              "          google.colab.kernel.accessAllowed ? 'block' : 'none';\n",
              "\n",
              "        async function convertToInteractive(key) {\n",
              "          const element = document.querySelector('#df-a2c69b10-7b30-4180-b8f9-98ff68edc61f');\n",
              "          const dataTable =\n",
              "            await google.colab.kernel.invokeFunction('convertToInteractive',\n",
              "                                                     [key], {});\n",
              "          if (!dataTable) return;\n",
              "\n",
              "          const docLinkHtml = 'Like what you see? Visit the ' +\n",
              "            '<a target=\"_blank\" href=https://colab.research.google.com/notebooks/data_table.ipynb>data table notebook</a>'\n",
              "            + ' to learn more about interactive tables.';\n",
              "          element.innerHTML = '';\n",
              "          dataTable['output_type'] = 'display_data';\n",
              "          await google.colab.output.renderOutput(dataTable, element);\n",
              "          const docLink = document.createElement('div');\n",
              "          docLink.innerHTML = docLinkHtml;\n",
              "          element.appendChild(docLink);\n",
              "        }\n",
              "      </script>\n",
              "    </div>\n",
              "  </div>\n",
              "  "
            ]
          },
          "metadata": {},
          "execution_count": 30
        }
      ]
    },
    {
      "cell_type": "code",
      "source": [
        "data_car_dekho.isnull().sum()"
      ],
      "metadata": {
        "id": "XtGTwDELqYbg",
        "colab": {
          "base_uri": "https://localhost:8080/"
        },
        "outputId": "e2f4410b-16e3-4b6b-81e2-e4329d170e10"
      },
      "execution_count": 31,
      "outputs": [
        {
          "output_type": "execute_result",
          "data": {
            "text/plain": [
              "Info       0\n",
              "Reviews    0\n",
              "Title      0\n",
              "Name       0\n",
              "dtype: int64"
            ]
          },
          "metadata": {},
          "execution_count": 31
        }
      ]
    },
    {
      "cell_type": "code",
      "source": [
        "import re"
      ],
      "metadata": {
        "id": "QjK7e95ERz9d"
      },
      "execution_count": 32,
      "outputs": []
    },
    {
      "cell_type": "code",
      "source": [
        "def extract_name(inf):\n",
        "  name = re.sub(\"By \",\"\",inf)\n",
        "  return name"
      ],
      "metadata": {
        "id": "tjk3nX5bRtEa"
      },
      "execution_count": 33,
      "outputs": []
    },
    {
      "cell_type": "code",
      "source": [
        "extract_name(\"By pankesh meena\")"
      ],
      "metadata": {
        "colab": {
          "base_uri": "https://localhost:8080/",
          "height": 36
        },
        "id": "4PnJEXQrR-wu",
        "outputId": "fc11aa5d-3278-4f0e-ac9f-c55cbb38440c"
      },
      "execution_count": 34,
      "outputs": [
        {
          "output_type": "execute_result",
          "data": {
            "text/plain": [
              "'pankesh meena'"
            ],
            "application/vnd.google.colaboratory.intrinsic+json": {
              "type": "string"
            }
          },
          "metadata": {},
          "execution_count": 34
        }
      ]
    },
    {
      "cell_type": "code",
      "source": [
        "def extract_no_rev(inf):\n",
        "  info = re.findall(r\"(\\d+) Views\",inf)\n",
        "  return info[0]"
      ],
      "metadata": {
        "id": "jidHLbFJSDMW"
      },
      "execution_count": 68,
      "outputs": []
    },
    {
      "cell_type": "code",
      "source": [
        "extract_no_rev(\"On: Sep 20, 2022 | 308 Views\")"
      ],
      "metadata": {
        "colab": {
          "base_uri": "https://localhost:8080/",
          "height": 36
        },
        "id": "QlElqp3HSTRY",
        "outputId": "7e2e4416-ccfd-496c-fd6d-c76c70cd3127"
      },
      "execution_count": 69,
      "outputs": [
        {
          "output_type": "execute_result",
          "data": {
            "text/plain": [
              "'308'"
            ],
            "application/vnd.google.colaboratory.intrinsic+json": {
              "type": "string"
            }
          },
          "metadata": {},
          "execution_count": 69
        }
      ]
    },
    {
      "cell_type": "code",
      "source": [
        "def extract_dates(inf):\n",
        "  dt = re.findall(r\"On: ([A-Za-z]{3} \\d{2}, \\d{4})\",inf)\n",
        "  return dt[0]"
      ],
      "metadata": {
        "id": "0vp_viUqSaKu"
      },
      "execution_count": 60,
      "outputs": []
    },
    {
      "cell_type": "code",
      "source": [
        "extract_dates(\"On: Sep 18, 2022 | 270 Views\")"
      ],
      "metadata": {
        "colab": {
          "base_uri": "https://localhost:8080/",
          "height": 36
        },
        "id": "bMQLNIQ5SsVr",
        "outputId": "9c1158e8-79a7-41cf-c986-d27edddecd7f"
      },
      "execution_count": 61,
      "outputs": [
        {
          "output_type": "execute_result",
          "data": {
            "text/plain": [
              "'Sep 18, 2022'"
            ],
            "application/vnd.google.colaboratory.intrinsic+json": {
              "type": "string"
            }
          },
          "metadata": {},
          "execution_count": 61
        }
      ]
    },
    {
      "cell_type": "code",
      "source": [
        "data_car_dekho[\"Views\"] = data_car_dekho[\"Info\"].apply(extract_no_rev)"
      ],
      "metadata": {
        "id": "0X376F6BSy1S"
      },
      "execution_count": 70,
      "outputs": []
    },
    {
      "cell_type": "code",
      "source": [
        "data_car_dekho[\"Name\"] = data_car_dekho[\"Name\"].apply(extract_name)"
      ],
      "metadata": {
        "id": "ZYa7cJLUVQAy"
      },
      "execution_count": 71,
      "outputs": []
    },
    {
      "cell_type": "code",
      "source": [
        "data_car_dekho[\"Date\"] = data_car_dekho[\"Info\"].apply(extract_dates)"
      ],
      "metadata": {
        "id": "fieZjzyBVY50"
      },
      "execution_count": 72,
      "outputs": []
    },
    {
      "cell_type": "code",
      "source": [
        "data_car_dekho.head()"
      ],
      "metadata": {
        "colab": {
          "base_uri": "https://localhost:8080/",
          "height": 206
        },
        "id": "L4uDCL5bVfo9",
        "outputId": "03b80d9e-c6a6-4efb-f0f3-d964633104a9"
      },
      "execution_count": 73,
      "outputs": [
        {
          "output_type": "execute_result",
          "data": {
            "text/plain": [
              "                             Info  \\\n",
              "0   On: Sep 20, 2022  | 308 Views   \n",
              "1  On: Sep 19, 2022  | 1197 Views   \n",
              "2   On: Sep 19, 2022  | 286 Views   \n",
              "3   On: Sep 18, 2022  | 940 Views   \n",
              "4   On: Sep 18, 2022  | 270 Views   \n",
              "\n",
              "                                             Reviews  \\\n",
              "0  Great Car In This Price RangeThis is an awesom...   \n",
              "1  Improved A Lot In ComfortThe car is quite good...   \n",
              "2  Powerful CarIt is a powerful car, the best car...   \n",
              "3  Value For Money CarGood car at a good price. T...   \n",
              "4  I Like This CarBest in the segment. It has gre...   \n",
              "\n",
              "                           Title                Name Views          Date  \n",
              "0  Great Car In This Price Range       pankesh meena   308  Sep 20, 2022  \n",
              "1      Improved A Lot In Comfort        darshan modi  1197  Sep 19, 2022  \n",
              "2                   Powerful Car  dharmendra kumawat   286  Sep 19, 2022  \n",
              "3            Value For Money Car       harmeet singh   940  Sep 18, 2022  \n",
              "4                I Like This Car            pradeep    270  Sep 18, 2022  "
            ],
            "text/html": [
              "\n",
              "  <div id=\"df-8d5d1817-ca3a-4e7c-be5b-50ca75259b69\">\n",
              "    <div class=\"colab-df-container\">\n",
              "      <div>\n",
              "<style scoped>\n",
              "    .dataframe tbody tr th:only-of-type {\n",
              "        vertical-align: middle;\n",
              "    }\n",
              "\n",
              "    .dataframe tbody tr th {\n",
              "        vertical-align: top;\n",
              "    }\n",
              "\n",
              "    .dataframe thead th {\n",
              "        text-align: right;\n",
              "    }\n",
              "</style>\n",
              "<table border=\"1\" class=\"dataframe\">\n",
              "  <thead>\n",
              "    <tr style=\"text-align: right;\">\n",
              "      <th></th>\n",
              "      <th>Info</th>\n",
              "      <th>Reviews</th>\n",
              "      <th>Title</th>\n",
              "      <th>Name</th>\n",
              "      <th>Views</th>\n",
              "      <th>Date</th>\n",
              "    </tr>\n",
              "  </thead>\n",
              "  <tbody>\n",
              "    <tr>\n",
              "      <th>0</th>\n",
              "      <td>On: Sep 20, 2022  | 308 Views</td>\n",
              "      <td>Great Car In This Price RangeThis is an awesom...</td>\n",
              "      <td>Great Car In This Price Range</td>\n",
              "      <td>pankesh meena</td>\n",
              "      <td>308</td>\n",
              "      <td>Sep 20, 2022</td>\n",
              "    </tr>\n",
              "    <tr>\n",
              "      <th>1</th>\n",
              "      <td>On: Sep 19, 2022  | 1197 Views</td>\n",
              "      <td>Improved A Lot In ComfortThe car is quite good...</td>\n",
              "      <td>Improved A Lot In Comfort</td>\n",
              "      <td>darshan modi</td>\n",
              "      <td>1197</td>\n",
              "      <td>Sep 19, 2022</td>\n",
              "    </tr>\n",
              "    <tr>\n",
              "      <th>2</th>\n",
              "      <td>On: Sep 19, 2022  | 286 Views</td>\n",
              "      <td>Powerful CarIt is a powerful car, the best car...</td>\n",
              "      <td>Powerful Car</td>\n",
              "      <td>dharmendra kumawat</td>\n",
              "      <td>286</td>\n",
              "      <td>Sep 19, 2022</td>\n",
              "    </tr>\n",
              "    <tr>\n",
              "      <th>3</th>\n",
              "      <td>On: Sep 18, 2022  | 940 Views</td>\n",
              "      <td>Value For Money CarGood car at a good price. T...</td>\n",
              "      <td>Value For Money Car</td>\n",
              "      <td>harmeet singh</td>\n",
              "      <td>940</td>\n",
              "      <td>Sep 18, 2022</td>\n",
              "    </tr>\n",
              "    <tr>\n",
              "      <th>4</th>\n",
              "      <td>On: Sep 18, 2022  | 270 Views</td>\n",
              "      <td>I Like This CarBest in the segment. It has gre...</td>\n",
              "      <td>I Like This Car</td>\n",
              "      <td>pradeep</td>\n",
              "      <td>270</td>\n",
              "      <td>Sep 18, 2022</td>\n",
              "    </tr>\n",
              "  </tbody>\n",
              "</table>\n",
              "</div>\n",
              "      <button class=\"colab-df-convert\" onclick=\"convertToInteractive('df-8d5d1817-ca3a-4e7c-be5b-50ca75259b69')\"\n",
              "              title=\"Convert this dataframe to an interactive table.\"\n",
              "              style=\"display:none;\">\n",
              "        \n",
              "  <svg xmlns=\"http://www.w3.org/2000/svg\" height=\"24px\"viewBox=\"0 0 24 24\"\n",
              "       width=\"24px\">\n",
              "    <path d=\"M0 0h24v24H0V0z\" fill=\"none\"/>\n",
              "    <path d=\"M18.56 5.44l.94 2.06.94-2.06 2.06-.94-2.06-.94-.94-2.06-.94 2.06-2.06.94zm-11 1L8.5 8.5l.94-2.06 2.06-.94-2.06-.94L8.5 2.5l-.94 2.06-2.06.94zm10 10l.94 2.06.94-2.06 2.06-.94-2.06-.94-.94-2.06-.94 2.06-2.06.94z\"/><path d=\"M17.41 7.96l-1.37-1.37c-.4-.4-.92-.59-1.43-.59-.52 0-1.04.2-1.43.59L10.3 9.45l-7.72 7.72c-.78.78-.78 2.05 0 2.83L4 21.41c.39.39.9.59 1.41.59.51 0 1.02-.2 1.41-.59l7.78-7.78 2.81-2.81c.8-.78.8-2.07 0-2.86zM5.41 20L4 18.59l7.72-7.72 1.47 1.35L5.41 20z\"/>\n",
              "  </svg>\n",
              "      </button>\n",
              "      \n",
              "  <style>\n",
              "    .colab-df-container {\n",
              "      display:flex;\n",
              "      flex-wrap:wrap;\n",
              "      gap: 12px;\n",
              "    }\n",
              "\n",
              "    .colab-df-convert {\n",
              "      background-color: #E8F0FE;\n",
              "      border: none;\n",
              "      border-radius: 50%;\n",
              "      cursor: pointer;\n",
              "      display: none;\n",
              "      fill: #1967D2;\n",
              "      height: 32px;\n",
              "      padding: 0 0 0 0;\n",
              "      width: 32px;\n",
              "    }\n",
              "\n",
              "    .colab-df-convert:hover {\n",
              "      background-color: #E2EBFA;\n",
              "      box-shadow: 0px 1px 2px rgba(60, 64, 67, 0.3), 0px 1px 3px 1px rgba(60, 64, 67, 0.15);\n",
              "      fill: #174EA6;\n",
              "    }\n",
              "\n",
              "    [theme=dark] .colab-df-convert {\n",
              "      background-color: #3B4455;\n",
              "      fill: #D2E3FC;\n",
              "    }\n",
              "\n",
              "    [theme=dark] .colab-df-convert:hover {\n",
              "      background-color: #434B5C;\n",
              "      box-shadow: 0px 1px 3px 1px rgba(0, 0, 0, 0.15);\n",
              "      filter: drop-shadow(0px 1px 2px rgba(0, 0, 0, 0.3));\n",
              "      fill: #FFFFFF;\n",
              "    }\n",
              "  </style>\n",
              "\n",
              "      <script>\n",
              "        const buttonEl =\n",
              "          document.querySelector('#df-8d5d1817-ca3a-4e7c-be5b-50ca75259b69 button.colab-df-convert');\n",
              "        buttonEl.style.display =\n",
              "          google.colab.kernel.accessAllowed ? 'block' : 'none';\n",
              "\n",
              "        async function convertToInteractive(key) {\n",
              "          const element = document.querySelector('#df-8d5d1817-ca3a-4e7c-be5b-50ca75259b69');\n",
              "          const dataTable =\n",
              "            await google.colab.kernel.invokeFunction('convertToInteractive',\n",
              "                                                     [key], {});\n",
              "          if (!dataTable) return;\n",
              "\n",
              "          const docLinkHtml = 'Like what you see? Visit the ' +\n",
              "            '<a target=\"_blank\" href=https://colab.research.google.com/notebooks/data_table.ipynb>data table notebook</a>'\n",
              "            + ' to learn more about interactive tables.';\n",
              "          element.innerHTML = '';\n",
              "          dataTable['output_type'] = 'display_data';\n",
              "          await google.colab.output.renderOutput(dataTable, element);\n",
              "          const docLink = document.createElement('div');\n",
              "          docLink.innerHTML = docLinkHtml;\n",
              "          element.appendChild(docLink);\n",
              "        }\n",
              "      </script>\n",
              "    </div>\n",
              "  </div>\n",
              "  "
            ]
          },
          "metadata": {},
          "execution_count": 73
        }
      ]
    },
    {
      "cell_type": "code",
      "source": [],
      "metadata": {
        "id": "Mq2P7F_aVkVI"
      },
      "execution_count": null,
      "outputs": []
    }
  ]
}