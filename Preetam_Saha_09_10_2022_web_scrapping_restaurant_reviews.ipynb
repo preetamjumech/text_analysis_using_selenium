{
  "nbformat": 4,
  "nbformat_minor": 0,
  "metadata": {
    "colab": {
      "provenance": [],
      "collapsed_sections": [],
      "authorship_tag": "ABX9TyNN4ABsbg4b7qC74K3MvNKU",
      "include_colab_link": true
    },
    "kernelspec": {
      "name": "python3",
      "display_name": "Python 3"
    },
    "language_info": {
      "name": "python"
    }
  },
  "cells": [
    {
      "cell_type": "markdown",
      "metadata": {
        "id": "view-in-github",
        "colab_type": "text"
      },
      "source": [
        "<a href=\"https://colab.research.google.com/github/preetamjumech/text_analysis_using_selenium/blob/main/Preetam_Saha_09_10_2022_web_scrapping_restaurant_reviews.ipynb\" target=\"_parent\"><img src=\"https://colab.research.google.com/assets/colab-badge.svg\" alt=\"Open In Colab\"/></a>"
      ]
    },
    {
      "cell_type": "code",
      "execution_count": 1,
      "metadata": {
        "colab": {
          "base_uri": "https://localhost:8080/"
        },
        "id": "vgPDwolPL0e3",
        "outputId": "95836fb0-e0b8-4ca9-e0e6-b97c00babca3"
      },
      "outputs": [
        {
          "output_type": "stream",
          "name": "stdout",
          "text": [
            "Looking in indexes: https://pypi.org/simple, https://us-python.pkg.dev/colab-wheels/public/simple/\n",
            "Requirement already satisfied: selenium in /usr/local/lib/python3.7/dist-packages (4.5.0)\n",
            "Requirement already satisfied: trio~=0.17 in /usr/local/lib/python3.7/dist-packages (from selenium) (0.22.0)\n",
            "Requirement already satisfied: trio-websocket~=0.9 in /usr/local/lib/python3.7/dist-packages (from selenium) (0.9.2)\n",
            "Requirement already satisfied: urllib3[socks]~=1.26 in /usr/local/lib/python3.7/dist-packages (from selenium) (1.26.12)\n",
            "Requirement already satisfied: certifi>=2021.10.8 in /usr/local/lib/python3.7/dist-packages (from selenium) (2022.9.24)\n",
            "Requirement already satisfied: sortedcontainers in /usr/local/lib/python3.7/dist-packages (from trio~=0.17->selenium) (2.4.0)\n",
            "Requirement already satisfied: attrs>=19.2.0 in /usr/local/lib/python3.7/dist-packages (from trio~=0.17->selenium) (22.1.0)\n",
            "Requirement already satisfied: async-generator>=1.9 in /usr/local/lib/python3.7/dist-packages (from trio~=0.17->selenium) (1.10)\n",
            "Requirement already satisfied: outcome in /usr/local/lib/python3.7/dist-packages (from trio~=0.17->selenium) (1.2.0)\n",
            "Requirement already satisfied: idna in /usr/local/lib/python3.7/dist-packages (from trio~=0.17->selenium) (2.10)\n",
            "Requirement already satisfied: sniffio in /usr/local/lib/python3.7/dist-packages (from trio~=0.17->selenium) (1.3.0)\n",
            "Requirement already satisfied: exceptiongroup>=1.0.0rc9 in /usr/local/lib/python3.7/dist-packages (from trio~=0.17->selenium) (1.0.0rc9)\n",
            "Requirement already satisfied: wsproto>=0.14 in /usr/local/lib/python3.7/dist-packages (from trio-websocket~=0.9->selenium) (1.2.0)\n",
            "Requirement already satisfied: PySocks!=1.5.7,<2.0,>=1.5.6 in /usr/local/lib/python3.7/dist-packages (from urllib3[socks]~=1.26->selenium) (1.7.1)\n",
            "Requirement already satisfied: h11<1,>=0.9.0 in /usr/local/lib/python3.7/dist-packages (from wsproto>=0.14->trio-websocket~=0.9->selenium) (0.14.0)\n",
            "Requirement already satisfied: typing-extensions in /usr/local/lib/python3.7/dist-packages (from h11<1,>=0.9.0->wsproto>=0.14->trio-websocket~=0.9->selenium) (4.1.1)\n"
          ]
        }
      ],
      "source": [
        "!pip install kora -q\n",
        "!pip install selenium"
      ]
    },
    {
      "cell_type": "code",
      "source": [
        "import selenium\n",
        "from kora.selenium import wd as browser\n",
        "from selenium.webdriver.common.by import By\n",
        "import pandas as pd \n",
        "import time\n",
        "from datetime import date,datetime as dt\n",
        "import datetime\n",
        "from bs4 import BeautifulSoup\n",
        "import numpy as np\n",
        "import re "
      ],
      "metadata": {
        "id": "plI-oZavPAXH"
      },
      "execution_count": 2,
      "outputs": []
    },
    {
      "cell_type": "code",
      "source": [
        "url = \"https://www.tripadvisor.in/Restaurant_Review-g304558-d1571770-Reviews-6_Ballygunge_Place-Kolkata_Calcutta_Kolkata_District_West_Bengal.html\""
      ],
      "metadata": {
        "id": "FdfDpveRPMGY"
      },
      "execution_count": 3,
      "outputs": []
    },
    {
      "cell_type": "code",
      "source": [
        "browser.get(url)"
      ],
      "metadata": {
        "id": "1S2Z7SKZPV49"
      },
      "execution_count": 4,
      "outputs": []
    },
    {
      "cell_type": "code",
      "source": [
        "xx = browser.find_elements(By.XPATH,\"//span[@class='taLnk ulBlueLinks']\")"
      ],
      "metadata": {
        "id": "NmIfocCQPsp1"
      },
      "execution_count": 5,
      "outputs": []
    },
    {
      "cell_type": "code",
      "source": [
        "def click(x):\n",
        "  try:\n",
        "    x.click()\n",
        "  except:\n",
        "    pass"
      ],
      "metadata": {
        "id": "aavWFyOSQPpL"
      },
      "execution_count": 6,
      "outputs": []
    },
    {
      "cell_type": "code",
      "source": [
        "d_x = [click(x) for x in xx]"
      ],
      "metadata": {
        "id": "vVO7I1NwQke3"
      },
      "execution_count": 7,
      "outputs": []
    },
    {
      "cell_type": "code",
      "source": [
        "len(d_x)"
      ],
      "metadata": {
        "colab": {
          "base_uri": "https://localhost:8080/"
        },
        "id": "I1IBVS1iQrQz",
        "outputId": "970d0f08-8249-4627-b9fa-d8517fba9889"
      },
      "execution_count": 8,
      "outputs": [
        {
          "output_type": "execute_result",
          "data": {
            "text/plain": [
              "12"
            ]
          },
          "metadata": {},
          "execution_count": 8
        }
      ]
    },
    {
      "cell_type": "code",
      "source": [
        "containers = [x.get_attribute('innerHTML') for x in browser.find_elements(By.XPATH,\"//div[@class='reviewSelector']\")]"
      ],
      "metadata": {
        "id": "8UXHOVpUQ1Au"
      },
      "execution_count": 9,
      "outputs": []
    },
    {
      "cell_type": "code",
      "source": [
        "len(containers)"
      ],
      "metadata": {
        "colab": {
          "base_uri": "https://localhost:8080/"
        },
        "id": "Q2hsUGVFRfGo",
        "outputId": "dabcca3d-639c-4d17-81e3-0c3046ac6ceb"
      },
      "execution_count": 10,
      "outputs": [
        {
          "output_type": "execute_result",
          "data": {
            "text/plain": [
              "15"
            ]
          },
          "metadata": {},
          "execution_count": 10
        }
      ]
    },
    {
      "cell_type": "code",
      "source": [
        "containers[0]"
      ],
      "metadata": {
        "colab": {
          "base_uri": "https://localhost:8080/",
          "height": 109
        },
        "id": "DPvSNNxMRiXE",
        "outputId": "98fb239a-da00-45a4-ca6e-9f9927505529"
      },
      "execution_count": 11,
      "outputs": [
        {
          "output_type": "execute_result",
          "data": {
            "text/plain": [
              "'<div class=\"rev_wrap ui_columns is-multiline\"><div class=\"ui_column is-2 memberInfoColumn\"><div class=\"prw_rup prw_reviews_member_info_resp\" data-prwidget-name=\"reviews_member_info_resp\" data-prwidget-init=\"handlers\"><div class=\"member_info\"><div id=\"UID_E889E4DFF16C616CAF70D604B81E2A14-SRC_860733429\" class=\"memberOverlayLink clickable\" onclick=\"widgetEvCall(\\'handlers.initMemberOverlay\\', event, this);\" data-anchorwidth=\"90\"><div class=\"avatar profile_E889E4DFF16C616CAF70D604B81E2A14\"><div class=\"avatarWrapper\"><a><div class=\"prw_rup prw_common_basic_image avatarImage\" data-prwidget-name=\"common_basic_image\" data-prwidget-init=\"\"><div class=\"ui_avatar resp\"> <img src=\"https://media-cdn.tripadvisor.com/media/photo-l/1a/f6/de/e7/default-avatar-2020-37.jpg\" class=\"basicImg\" data-mediaid=\"452386535\"></div></div></a></div></div><div class=\"info_text pointer_cursor\" onclick=\"widgetEvCall(\\'handlers.usernameClick\\', event, this);\"><div>Bicchu14</div><div class=\"userLoc\"><strong>London, United Kingdom</strong></div></div></div><div id=\"UID_E889E4DFF16C616CAF70D604B81E2A14-SRC_860733429\" class=\"memberOverlayLink clickable\" onclick=\"widgetEvCall(\\'handlers.initMemberOverlay\\', event, this);\" data-anchorwidth=\"90\"><div class=\"memberBadgingNoText is-shown-at-tablet\"><span class=\"ui_icon pencil-paper\"></span><span class=\"badgetext\">25</span><span class=\"ui_icon thumbs-up\"></span><span class=\"badgetext\">9</span></div></div></div></div></div><div class=\"ui_column is-9\"><span class=\"ui_bubble_rating bubble_30\"></span><span class=\"ratingDate\" title=\"18 September 2022\">Reviewed 3 weeks ago </span><div class=\"quote\"><a href=\"/ShowUserReviews-g304558-d1571770-r860733429-6_Ballygunge_Place-Kolkata_Calcutta_Kolkata_District_West_Bengal.html\" class=\"title \" onclick=\"(ta.prwidgets.getjs(this,\\'handlers\\')).reviewClick(this.href, \\'0\\');\" id=\"rn860733429\"><span class=\"noQuotes\">Superb food, okay service</span></a></div><div class=\"prw_rup prw_reviews_text_summary_hsx\" data-prwidget-name=\"reviews_text_summary_hsx\" data-prwidget-init=\"handlers\"><div class=\"entry\"><p class=\"partial_entry\">Loved the food. Potoler dorma, hilsa preparation, noler gurer ice-cream were some of the delicacies that we enjoyed. <br>Loved the ambiance and the speed of service. I would have given a 5 for the restaurant had it not been the persuasive gesture of paying the bill, before finishing the food. It seemed the staff were in a hurry to get the bill paid even when we were in the tailend of our meal... Awaiting the desserts to be served! A little patience would have been very appreciated.</p><span class=\"taLnk ulBlueLinks\" onclick=\"widgetEvCall(\\'handlers.clickCollapse\\',event,this);\">Show less</span></div></div><div class=\"prw_rup prw_reviews_stay_date_hsx\" data-prwidget-name=\"reviews_stay_date_hsx\" data-prwidget-init=\"\"><span class=\"stay_date_label\">Date of visit:</span> August 2022</div><div class=\"prw_rup prw_reviews_category_ratings_hsx\" data-prwidget-name=\"reviews_category_ratings_hsx\" data-prwidget-init=\"\"><div class=\"rating-list\"></div></div><div class=\"prw_rup prw_reviews_user_links_hsx\" data-prwidget-name=\"reviews_user_links_hsx\" data-prwidget-init=\"handlers\"><span class=\"taLnk \" data-pid=\"38673\" data-locid=\"1571770\" data-screenname=\"Bicchu14\" data-memberid=\"E889E4DFF16C616CAF70D604B81E2A14\" data-language=\"en\" data-reviewid=\"860733429\" data-subject=\"6 Ballygunge Place\" onclick=\"(ta.prwidgets.getjs(this,\\'handlers\\')).onclick(event, this)\">Ask Bicchu14 about 6 Ballygunge Place</span></div><div class=\"prw_rup prw_reviews_vote_line_hsx\" data-prwidget-name=\"reviews_vote_line_hsx\" data-prwidget-init=\"handlers\" data-prwidget-deferred=\"deferred/clicks\"><div class=\"tooltips wrap\"><span id=\"ReportIAP_860733429\" class=\"taLnk no_cpu ui_icon flag\" onclick=\"ta.prwidgets.call(\\'deferred/clicks.clickReport\\',event,this,860733429,\\'member\\');return false;\" onmouseover=\"widgetEvCall(\\'handlers.hoverReport\\',event,this);return false;\" data-tooltip=\"\" data-position=\"above\" data-content=\"Problem with this review?\"></span></div><div class=\"helpful redesigned hsx_helpful\"><span class=\"thankButton hsx_thank_button\" onclick=\"ta.prwidgets.call(\\'deferred/clicks.clickThank\\',event,this,\\'LeJIVqd4EVIpECri1GII2t6mbqgqguuuxizSxiSCqgeVtIJpEJCIQQoqnQQeVsSVuqHymKdoovqHMUokUkkKqHxfqH3QQoqnQQ7JccgypCyVQQoqnQQwcJnVqHxbic9JIJQQoqnQQfJcnpIIJQQoqnQQxbic9JIJQQoqnQQxMStIESnIQQoqnQQxdVtIQQoqnQQ7VCyJcxiGIac6XoXmqoTpcv3KkmmdXA0tEn1v3KkmmdXA0zH1mKdoov0pSM1zsvvAzsdxMqnqnU3f3U3fbqnkKxM3Kd7vUzsXbUd0npEEeJIV1K0EJIVqiJcpV1U0Ii9VC1rZlU3XozxbZ7VqIMjxbvgfxE7AbzCyzsq8kq8xXlcSAKqIfxEqn5pdzCMUSUrDdgkxEqIZzCfk2TTpTwapx5jx5MML5iaIJHDbhVqnNqIrEqQkkqiwK3mCSwqicmqizzxXxEDXipVEiRfuxdSzCerOlxExdjJlxXxM7fcfrHCAazsjkx5plrLsRRx5mjSnqQRqilCJtSbAJwXnx2ExMeJrxdONOqQT\\');return false;\"><span class=\"helpful_text\"><span class=\"ui_icon thumbs-up emphasizeWithColor\"></span><span class=\"numHelp emphasizeWithColor\"></span><span class=\"thankUser\">Thank Bicchu14 </span></span><div class=\"buttonShade hidden\"><img src=\"https://static.tacdn.com/img2/generic/site/loading_anim_gry_sml.gif\" alt=\"\"></div></span></div></div><div class=\"prw_rup prw_common_html\" data-prwidget-name=\"common_html\" data-prwidget-init=\"\"><div class=\"note\">This review is the subjective opinion of a Tripadvisor member and not of Tripadvisor LLC. Tripadvisor performs checks on reviews.</div></div><div class=\"loadingShade hidden\"><div class=\"ui_spinner\"></div></div></div></div>'"
            ],
            "application/vnd.google.colaboratory.intrinsic+json": {
              "type": "string"
            }
          },
          "metadata": {},
          "execution_count": 11
        }
      ]
    },
    {
      "cell_type": "code",
      "source": [
        "data=[]"
      ],
      "metadata": {
        "id": "73Ar6VK_Sbqi"
      },
      "execution_count": 12,
      "outputs": []
    },
    {
      "cell_type": "code",
      "source": [
        "for container in containers:\n",
        "  bsObj = BeautifulSoup(container)\n",
        "  rev = bsObj.find(name = \"div\", attrs = {\"class\":\"prw_rup prw_reviews_text_summary_hsx\"}).text\n",
        "  data.append(rev)"
      ],
      "metadata": {
        "id": "ypgbEI2QRjui"
      },
      "execution_count": 13,
      "outputs": []
    },
    {
      "cell_type": "code",
      "source": [
        "data"
      ],
      "metadata": {
        "colab": {
          "base_uri": "https://localhost:8080/"
        },
        "id": "n7WsHufvUlYA",
        "outputId": "7d6adbd3-ccb2-4ad1-c525-6d42cebd9be8"
      },
      "execution_count": 14,
      "outputs": [
        {
          "output_type": "execute_result",
          "data": {
            "text/plain": [
              "['Loved the food. Potoler dorma, hilsa preparation, noler gurer ice-cream were some of the delicacies that we enjoyed. Loved the ambiance and the speed of service. I would have given a 5 for the restaurant had it not been the persuasive gesture of paying the bill, before finishing the food. It seemed the staff were in a hurry to get the bill paid even when we were in the tailend of our meal... Awaiting the desserts to be served! A little patience would have been very appreciated.Show less',\n",
              " 'If your looking for an authentic bengali cuisine then 6 ballygunge place is where you should be. The food is made in authentic bengali style. Wide buffet spread. The taste is superb. Must try is luchi and kosha mangsho along with aloo dum. The aam pora shorbot is yum. Overall great experience.Show less',\n",
              " \"My wife is Bengali and I am very accustomed to her cooking. Having been to many Bengali parties hosted by our friends, I'm familiar enough to at least have a valid opinion. I ate at six different restaurants in Kolkata, and this one was near or at the top of the list. My wife and our Bengali friends who dined with us all said this was the REAL DEAL. The service was top notch, and the prices were quite reasonable. Don't miss this charming restaurant.Show less\",\n",
              " 'Simply visit the place if you know Bengali specialty. Expectation of correct advocation .... not much of idea really',\n",
              " 'We went to the original restaurant and the building itself was so charming. An old building has been converted to this restaurant which itself brings a sense of nostalgia. On top of that, the food is so delicious. A very good selection of bengali dishes for both vegetarian and non-vegetarian, all the items we ordered was very tasteful.Show less',\n",
              " 'My wife and I had planned to visit 6 Ballygunge Place on Poila Boisakh, but tables were not available there for several days in a row1 So we decided to defer our visit and finally went there last week with an extended family group. When I clicked on Google Maps to check the route, it informed me that this was my fourth visit (not counting earlier visits when I did not have Maps on my phone!)The first thing which strikes one is the heritage building and the decor which tries to match the exterior. Recently they have redecorated the ground floor and have put some old furinture and artefacts on display, including an old typewriter of \"Corona\" brand. The first floor, where the seating capactiy seems to expand each time we visit, is relatively recent. The decor seems a bit overdone, but as soon as the food arrives, the decor recedes into the background. Coming to the food, we began with mocktails with interesting names like Noti Binodini and Professor Shanku, along with the Mochar Chop and Chhana Motorshutir Chop as starters. For the main course, we had Shuktoni and two types of Dal with Luchi and steamed rice. The highlight of our meal was the Bhetki Paturi, and its vegetarian version the Nabaratna Paturi (as our group had both vegetarians and non-vegetarians). As for desserts, all of us declared that we had overeaten, but we finally ordered nolen gurer ice cream and bhapa doi. Both were outstanding and were specially enjoyed by our guests who were visiting the restaurant for the first time. The food and service were equally good. I must also appreciate the clean and well equipped washrooms. It is likely that the fifth visit will take place very soon!Show less',\n",
              " 'Nice ambiance with authentic bangali cuisine. Not so expensive. Food is too good. Parking is an issue. \\n Love to visit again.',\n",
              " 'Spent 5K bucks in the name of so called Poila Baisakh. The food is like garage.. Very average food quality and I am damn sure this must be food of 2-3 days old. Chicken was smelly.. Greetings and behaviour of staffs are very non- amicable.. overall bad experience .. waste of money time energy and left with hingry belly.. must be zero starThey are charging hefty amount for kids.. in this price a whole family can eat for 7 days..Show less',\n",
              " 'I have had good food there before. But I have always found the high praise for this restaurant super hyped and completely unreal. This time I had \"Dab chingri\" and \"Chitol machher muittya\". Both were quite pathetic. The Dab Chingri was sickly sweet and tasteless. The Chitol Machh was rubbery like soy bean and, worse still, the curry was quite undistinguished. I don\\'t know what happened. Perhaps the chef had a bad day.My overall recommendation is to avoid this restaurant. There are several other Bengali food joints with very tasty food.Visited on April 9, 2022 at 1:30 PM. Table #18. The restaurant can verify my comment against their order book.Show less',\n",
              " \"It's not a bad restaurant, but definitely not out of this world. It has been able to get hyped by local Bongs more than it deserves. Food is just good. I repeat, just good. Fish fry we tried was ordinary, there are hundreds of restaurants in Kolkata serving better stuff. Mocktail range is good. Overall, it's good. Show less\",\n",
              " \"Out of all of the numerous restaurants I've visited throughout India and the world, 6 Ballygunge Place has the best, and most authentic Bengali food I've ever had at a restaurant. As a Bengali living abroad, it tasted home cooked - highly, highly recommend for the discerning traveller in search of a truly memorable experience.Show less\",\n",
              " 'This is one place where you get the true delicacies of Bengal. It is big and accomodates many guests. There was a plethora of dishes for buffet lunch when we visited. It included Veg, Fish, Prawns, chicken, mutton and dessert. a la carte also available.',\n",
              " 'We went for dinner at the newly opened 6, Ballygunge place at Chowringhee. They are at Chaudhary Estates property. The restaurant is reasonably large, well lit and spread out. It wasn’t crowded ( maybe b’cos they are new at Chowringhee). The service was attentive and unobtrusive. The captain and waiters know about the dishes and their details and explained them to us( we are not conversant with Bengali language), though we know about the cuisine. We tried fish kabiraji , chandernagore fried fish, koi macher jhol, kosha magsho and poshto in veg. The desserts were also awesome. The best part is, they live up to their reputation for quality. The preparations were made well maintaining quality and taste. They have good variety of veg and non veg items. Worth a visit if you’re with family or friends.Show less',\n",
              " \"Their afternoon buffet has really gone southwards. I remember having it 3 years ago and it was a great experience. Yesterday's buffet lunch was just passable, and barely value for money. The servers were very reluctant to refill the dishes that we wanted, namely mutton curry and fish fry. It was quite obvious that they were scrimping and hoping that we would let it pass.Show less\",\n",
              " '6 Ballygunge Place was the perfect place for a family reunion. Great ambience, good food and service. Posto bora, Chicken Tampa... , Chutney, Fish fry , Baked Mihidana were superb. Bhapa Ilish was good quality but lacked the zing. Suggest to add a dash of raw Mustard oil before serving and some slit green chillies. RJ and Dhanjoy were a big help in curating the menu. Thank you to the wonderful staff.Show less']"
            ]
          },
          "metadata": {},
          "execution_count": 14
        }
      ]
    },
    {
      "cell_type": "code",
      "source": [
        "len(data)"
      ],
      "metadata": {
        "colab": {
          "base_uri": "https://localhost:8080/"
        },
        "id": "lk_jb4UvYcHg",
        "outputId": "e1519ba9-4002-4db2-fcb5-4c772030b291"
      },
      "execution_count": 15,
      "outputs": [
        {
          "output_type": "execute_result",
          "data": {
            "text/plain": [
              "15"
            ]
          },
          "metadata": {},
          "execution_count": 15
        }
      ]
    },
    {
      "cell_type": "code",
      "source": [
        "data[0]"
      ],
      "metadata": {
        "colab": {
          "base_uri": "https://localhost:8080/",
          "height": 72
        },
        "id": "rNb7OSCQUl4E",
        "outputId": "c51be001-4d98-45c7-856e-31c743a8fab2"
      },
      "execution_count": 16,
      "outputs": [
        {
          "output_type": "execute_result",
          "data": {
            "text/plain": [
              "'Loved the food. Potoler dorma, hilsa preparation, noler gurer ice-cream were some of the delicacies that we enjoyed. Loved the ambiance and the speed of service. I would have given a 5 for the restaurant had it not been the persuasive gesture of paying the bill, before finishing the food. It seemed the staff were in a hurry to get the bill paid even when we were in the tailend of our meal... Awaiting the desserts to be served! A little patience would have been very appreciated.Show less'"
            ],
            "application/vnd.google.colaboratory.intrinsic+json": {
              "type": "string"
            }
          },
          "metadata": {},
          "execution_count": 16
        }
      ]
    },
    {
      "cell_type": "code",
      "source": [
        "dataset=[]"
      ],
      "metadata": {
        "id": "MC98dYYAa7-e"
      },
      "execution_count": 17,
      "outputs": []
    },
    {
      "cell_type": "code",
      "source": [
        "for i in range(1,40):\n",
        "  c=15*i\n",
        "  url=f\"https://www.tripadvisor.in/Restaurant_Review-g304558-d1571770-Reviews-or{c}-6_Ballygunge_Place-Kolkata_Calcutta_Kolkata_District_West_Bengal.html\"\n",
        "  browser.get(url)\n",
        "  xx = browser.find_elements(By.XPATH,\"//span[@class='taLnk ulBlueLinks']\")\n",
        "  def click(x):\n",
        "    try:\n",
        "      x.click()\n",
        "    except:\n",
        "      pass\n",
        "  d_x = [click(x) for x in xx]\n",
        "  containers = [x.get_attribute('innerHTML') for x in browser.find_elements(By.XPATH,\"//div[@class='reviewSelector']\")]\n",
        "  for container in containers:\n",
        "    bsObj = BeautifulSoup(container)\n",
        "    rev = bsObj.find(name = \"div\", attrs = {\"class\":\"prw_rup prw_reviews_text_summary_hsx\"}).text\n",
        "    dataset.append(rev)\n"
      ],
      "metadata": {
        "id": "sKNDcdIJUnpz"
      },
      "execution_count": 18,
      "outputs": []
    },
    {
      "cell_type": "code",
      "source": [
        "len(dataset)"
      ],
      "metadata": {
        "colab": {
          "base_uri": "https://localhost:8080/"
        },
        "id": "jmLEPs8rVc3z",
        "outputId": "d36fcf88-8096-40d2-98fe-e4b3fb320a43"
      },
      "execution_count": 20,
      "outputs": [
        {
          "output_type": "execute_result",
          "data": {
            "text/plain": [
              "585"
            ]
          },
          "metadata": {},
          "execution_count": 20
        }
      ]
    },
    {
      "cell_type": "code",
      "source": [
        "dataset[0]"
      ],
      "metadata": {
        "colab": {
          "base_uri": "https://localhost:8080/",
          "height": 36
        },
        "id": "Sf7LKtnOYXSI",
        "outputId": "7bf1eeba-b079-4368-d650-344374a5e4a4"
      },
      "execution_count": 21,
      "outputs": [
        {
          "output_type": "execute_result",
          "data": {
            "text/plain": [
              "'The food is Awesome & the service too. MUST TRY the dav Chingri, sorshe elish & one more starter with lau pata Elish.'"
            ],
            "application/vnd.google.colaboratory.intrinsic+json": {
              "type": "string"
            }
          },
          "metadata": {},
          "execution_count": 21
        }
      ]
    },
    {
      "cell_type": "code",
      "source": [],
      "metadata": {
        "id": "9Gy9DcXFYgUp"
      },
      "execution_count": 21,
      "outputs": []
    }
  ]
}