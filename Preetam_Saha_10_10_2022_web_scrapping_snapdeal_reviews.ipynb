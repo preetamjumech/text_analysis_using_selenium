{
  "nbformat": 4,
  "nbformat_minor": 0,
  "metadata": {
    "colab": {
      "provenance": [],
      "collapsed_sections": [],
      "authorship_tag": "ABX9TyPzYT0Pb8nzW1XahZWjhOW/",
      "include_colab_link": true
    },
    "kernelspec": {
      "name": "python3",
      "display_name": "Python 3"
    },
    "language_info": {
      "name": "python"
    }
  },
  "cells": [
    {
      "cell_type": "markdown",
      "metadata": {
        "id": "view-in-github",
        "colab_type": "text"
      },
      "source": [
        "<a href=\"https://colab.research.google.com/github/preetamjumech/text_analysis_using_selenium/blob/main/Preetam_Saha_10_10_2022_web_scrapping_snapdeal_reviews.ipynb\" target=\"_parent\"><img src=\"https://colab.research.google.com/assets/colab-badge.svg\" alt=\"Open In Colab\"/></a>"
      ]
    },
    {
      "cell_type": "code",
      "execution_count": 1,
      "metadata": {
        "colab": {
          "base_uri": "https://localhost:8080/"
        },
        "id": "PvS9V6EAJ5GS",
        "outputId": "eafd26f8-2fc4-48ba-d4bf-03e43a1ecc71"
      },
      "outputs": [
        {
          "output_type": "stream",
          "name": "stdout",
          "text": [
            "\u001b[K     |████████████████████████████████| 57 kB 3.4 MB/s \n",
            "\u001b[K     |████████████████████████████████| 1.6 MB 15.6 MB/s \n",
            "\u001b[?25hLooking in indexes: https://pypi.org/simple, https://us-python.pkg.dev/colab-wheels/public/simple/\n",
            "Collecting selenium\n",
            "  Downloading selenium-4.5.0-py3-none-any.whl (995 kB)\n",
            "\u001b[K     |████████████████████████████████| 995 kB 9.9 MB/s \n",
            "\u001b[?25hCollecting trio~=0.17\n",
            "  Downloading trio-0.22.0-py3-none-any.whl (384 kB)\n",
            "\u001b[K     |████████████████████████████████| 384 kB 60.6 MB/s \n",
            "\u001b[?25hCollecting trio-websocket~=0.9\n",
            "  Downloading trio_websocket-0.9.2-py3-none-any.whl (16 kB)\n",
            "Requirement already satisfied: certifi>=2021.10.8 in /usr/local/lib/python3.7/dist-packages (from selenium) (2022.9.24)\n",
            "Collecting urllib3[socks]~=1.26\n",
            "  Downloading urllib3-1.26.12-py2.py3-none-any.whl (140 kB)\n",
            "\u001b[K     |████████████████████████████████| 140 kB 15.9 MB/s \n",
            "\u001b[?25hRequirement already satisfied: idna in /usr/local/lib/python3.7/dist-packages (from trio~=0.17->selenium) (2.10)\n",
            "Collecting exceptiongroup>=1.0.0rc9\n",
            "  Downloading exceptiongroup-1.0.0rc9-py3-none-any.whl (12 kB)\n",
            "Requirement already satisfied: sortedcontainers in /usr/local/lib/python3.7/dist-packages (from trio~=0.17->selenium) (2.4.0)\n",
            "Collecting outcome\n",
            "  Downloading outcome-1.2.0-py2.py3-none-any.whl (9.7 kB)\n",
            "Collecting async-generator>=1.9\n",
            "  Downloading async_generator-1.10-py3-none-any.whl (18 kB)\n",
            "Requirement already satisfied: attrs>=19.2.0 in /usr/local/lib/python3.7/dist-packages (from trio~=0.17->selenium) (22.1.0)\n",
            "Collecting sniffio\n",
            "  Downloading sniffio-1.3.0-py3-none-any.whl (10 kB)\n",
            "Collecting wsproto>=0.14\n",
            "  Downloading wsproto-1.2.0-py3-none-any.whl (24 kB)\n",
            "Requirement already satisfied: PySocks!=1.5.7,<2.0,>=1.5.6 in /usr/local/lib/python3.7/dist-packages (from urllib3[socks]~=1.26->selenium) (1.7.1)\n",
            "Collecting h11<1,>=0.9.0\n",
            "  Downloading h11-0.14.0-py3-none-any.whl (58 kB)\n",
            "\u001b[K     |████████████████████████████████| 58 kB 6.1 MB/s \n",
            "\u001b[?25hRequirement already satisfied: typing-extensions in /usr/local/lib/python3.7/dist-packages (from h11<1,>=0.9.0->wsproto>=0.14->trio-websocket~=0.9->selenium) (4.1.1)\n",
            "Installing collected packages: sniffio, outcome, h11, exceptiongroup, async-generator, wsproto, urllib3, trio, trio-websocket, selenium\n",
            "  Attempting uninstall: urllib3\n",
            "    Found existing installation: urllib3 1.24.3\n",
            "    Uninstalling urllib3-1.24.3:\n",
            "      Successfully uninstalled urllib3-1.24.3\n",
            "\u001b[31mERROR: pip's dependency resolver does not currently take into account all the packages that are installed. This behaviour is the source of the following dependency conflicts.\n",
            "requests 2.23.0 requires urllib3!=1.25.0,!=1.25.1,<1.26,>=1.21.1, but you have urllib3 1.26.12 which is incompatible.\u001b[0m\n",
            "Successfully installed async-generator-1.10 exceptiongroup-1.0.0rc9 h11-0.14.0 outcome-1.2.0 selenium-4.5.0 sniffio-1.3.0 trio-0.22.0 trio-websocket-0.9.2 urllib3-1.26.12 wsproto-1.2.0\n"
          ]
        }
      ],
      "source": [
        "!pip install kora -q\n",
        "!pip install selenium"
      ]
    },
    {
      "cell_type": "code",
      "source": [
        "import selenium\n",
        "from kora.selenium import wd as browser\n",
        "from selenium.webdriver.common.by import By\n",
        "import pandas as pd \n",
        "import time\n",
        "from datetime import date,datetime as dt\n",
        "import datetime\n",
        "from bs4 import BeautifulSoup\n",
        "import numpy as np\n",
        "import re "
      ],
      "metadata": {
        "id": "j-gm-tD5MNYe"
      },
      "execution_count": 2,
      "outputs": []
    },
    {
      "cell_type": "code",
      "source": [
        "url = \"https://www.snapdeal.com/product/elv-universal-mobile-phone-stand/661153369346#bcrumbSearch:phone\""
      ],
      "metadata": {
        "id": "tiHWT9TJMeQA"
      },
      "execution_count": 8,
      "outputs": []
    },
    {
      "cell_type": "code",
      "source": [
        "browser.get(url)"
      ],
      "metadata": {
        "id": "LteK3lnkMwTU"
      },
      "execution_count": 9,
      "outputs": []
    },
    {
      "cell_type": "code",
      "source": [
        "containers = [x.get_attribute('innerHTML') for x in browser.find_elements(By.XPATH,\"//div[@class='user-review']\")]"
      ],
      "metadata": {
        "id": "kdwVWK3iMzhk"
      },
      "execution_count": 10,
      "outputs": []
    },
    {
      "cell_type": "code",
      "source": [
        "len(containers)"
      ],
      "metadata": {
        "colab": {
          "base_uri": "https://localhost:8080/"
        },
        "id": "Zv0tTWaFN6jK",
        "outputId": "e00fc98e-ddf4-42f1-bd17-2c20a78227c5"
      },
      "execution_count": 11,
      "outputs": [
        {
          "output_type": "execute_result",
          "data": {
            "text/plain": [
              "20"
            ]
          },
          "metadata": {},
          "execution_count": 11
        }
      ]
    },
    {
      "cell_type": "code",
      "source": [
        "containers[0]"
      ],
      "metadata": {
        "colab": {
          "base_uri": "https://localhost:8080/",
          "height": 53
        },
        "id": "ljH1t8SXOBpf",
        "outputId": "2e35394a-c35e-4841-9218-c335f6ae96d8"
      },
      "execution_count": 12,
      "outputs": [
        {
          "output_type": "execute_result",
          "data": {
            "text/plain": [
              "'<div class=\"ratingAndCreatedAt\"> <div class=\"rating-stars \">  <div class=\"grey-stars\"></div> <div class=\"filled-stars\" style=\"width:0%\"></div></div>   <span class=\"date LTgray\">Oct 02, 2022</span></div>'"
            ],
            "application/vnd.google.colaboratory.intrinsic+json": {
              "type": "string"
            }
          },
          "metadata": {},
          "execution_count": 12
        }
      ]
    },
    {
      "cell_type": "code",
      "source": [
        "#https://www.snapdeal.com/product/elv-universal-mobile-phone-stand/661153369346/reviews?page=2&sortBy=HELPFUL#defRevPDP"
      ],
      "metadata": {
        "id": "ipatZtxGM-rz"
      },
      "execution_count": null,
      "outputs": []
    },
    {
      "cell_type": "code",
      "source": [
        "dataset=[]"
      ],
      "metadata": {
        "id": "9LfH_2UDOW69"
      },
      "execution_count": 15,
      "outputs": []
    },
    {
      "cell_type": "code",
      "source": [
        "for i in range(1,11):\n",
        "  url = f\"https://www.snapdeal.com/product/elv-universal-mobile-phone-stand/661153369346/reviews?page={i}&sortBy=HELPFUL#defRevPDP\"\n",
        "  browser.get(url)\n",
        "\n",
        "  containers = [x.get_attribute('innerHTML') for x in browser.find_elements(By.XPATH,\"//div[@class='text']\")]\n",
        "  for container in containers:\n",
        "    bsObj = BeautifulSoup(container)\n",
        "    rev = bsObj.find(name = \"p\").text\n",
        "\n",
        "    title = bsObj.find(name = \"div\", attrs = {\"class\":\"head\"}).text\n",
        "\n",
        "    info = bsObj.find(name = \"div\", attrs = {\"class\":\"_reviewUserName\"}).text\n",
        "    dataset.append([rev,title,info])\n"
      ],
      "metadata": {
        "id": "zvYlCLG6OYmX"
      },
      "execution_count": 16,
      "outputs": []
    },
    {
      "cell_type": "code",
      "source": [
        "len(dataset)"
      ],
      "metadata": {
        "colab": {
          "base_uri": "https://localhost:8080/"
        },
        "id": "Xsn6yswhSAHn",
        "outputId": "89610294-5fed-4722-a697-45f22f75a4b4"
      },
      "execution_count": 17,
      "outputs": [
        {
          "output_type": "execute_result",
          "data": {
            "text/plain": [
              "100"
            ]
          },
          "metadata": {},
          "execution_count": 17
        }
      ]
    },
    {
      "cell_type": "code",
      "source": [
        "dataset[98]"
      ],
      "metadata": {
        "colab": {
          "base_uri": "https://localhost:8080/"
        },
        "id": "RAZDwZ-HSGNh",
        "outputId": "65c978c8-e41e-471d-d92a-ed353882ce1c"
      },
      "execution_count": 18,
      "outputs": [
        {
          "output_type": "execute_result",
          "data": {
            "text/plain": [
              "['very nice product and useful to keeep mobile on stand/ table or else shere.',\n",
              " 'very nice of metal stand. Good delivery and good packing. Nice of snap deal',\n",
              " 'by Harikumar on Aug 19, 2022']"
            ]
          },
          "metadata": {},
          "execution_count": 18
        }
      ]
    },
    {
      "cell_type": "code",
      "source": [
        "dataset[0]"
      ],
      "metadata": {
        "colab": {
          "base_uri": "https://localhost:8080/"
        },
        "id": "GTbQKxGp8dxv",
        "outputId": "0c01bf9d-7a0a-47eb-ccac-23fb4c167007"
      },
      "execution_count": 19,
      "outputs": [
        {
          "output_type": "execute_result",
          "data": {
            "text/plain": [
              "['Super snapdeal', 'Super', 'by Manveeth on Jul 25, 2022']"
            ]
          },
          "metadata": {},
          "execution_count": 19
        }
      ]
    },
    {
      "cell_type": "code",
      "source": [
        "dataset"
      ],
      "metadata": {
        "colab": {
          "base_uri": "https://localhost:8080/"
        },
        "id": "4Fl6dyEiSRcp",
        "outputId": "8a1d03eb-e5eb-4869-a0f8-f7859748cc78"
      },
      "execution_count": 20,
      "outputs": [
        {
          "output_type": "execute_result",
          "data": {
            "text/plain": [
              "[['Super snapdeal', 'Super', 'by Manveeth on Jul 25, 2022'],\n",
              " ['Nice Product', 'Nice Product', 'by parvezbadal0786 on Mar 15, 2022'],\n",
              " ['SUPER VERY SUPER', 'SERVICES SUPER', 'by ERAMANI on Jul 20, 2022'],\n",
              " ['Very nice product Really worth it.Thank u snapdeal 👍😊',\n",
              "  'Very Good 🙂',\n",
              "  'by Susheela on Sep 28, 2022'],\n",
              " ['Very handy and useful product.', 'Useful', 'by Rajeev on Sep 19, 2022'],\n",
              " ['Best prouduct', 'Very good prouduct', 'by Sayyed on Sep 05, 2022'],\n",
              " ['Super and very useful.quality is very good',\n",
              "  'Quality',\n",
              "  'by Samundi on Aug 18, 2022'],\n",
              " ['Good metal stand', 'As expected', 'by Sonika on Jun 22, 2022'],\n",
              " ['Good quality', 'Good quality', 'by Javed on Oct 09, 2022'],\n",
              " ['Nice product for cellphone stand',\n",
              "  'Awesome cellphone stand',\n",
              "  'by SABIR on Jul 05, 2022'],\n",
              " ['Worth it Congratulations', 'I loved it', 'by Kanwal on Mar 04, 2022'],\n",
              " ['All things are very good', 'SUperb', 'by Anil Patil on Jun 18, 2022'],\n",
              " ['This product is good.', 'NBOX mobile stand', 'by MOLY on Aug 01, 2022'],\n",
              " [\"This phone stand is very good and strong and it's usable not just for mobile but for small books can also be good. It's not plastic but iron steel with good finished coating paint which gives elegant look.Only issue I issue I faced was the delivery system, 10 days is too much for a product to reach the customers after order confirmation. Other ecommerce compateters delivery products within 7 days\",\n",
              "  'ELV SMART MOBILE PHONE STAND',\n",
              "  'by Nadeed on Mar 06, 2022'],\n",
              " ['Nice product.. recommended',\n",
              "  'Good as thought',\n",
              "  'by rajdeep on Jun 08, 2022'],\n",
              " ['Super and good look', 'Super', 'by B ANILKUMAR on May 21, 2022'],\n",
              " ['Super good', 'Super', 'by Subodh on Aug 18, 2022'],\n",
              " ['Very Good quality.',\n",
              "  'product quality is very good.',\n",
              "  'by Anil on Apr 02, 2022'],\n",
              " ['All communication and follow up information are great. Delevery was faster than the schedule.N.Kumar',\n",
              "  'Excellent product',\n",
              "  'by Kumar on Aug 10, 2022'],\n",
              " ['Very good quality asper the price',\n",
              "  'Mobile stand',\n",
              "  'by Jwala on Oct 08, 2022'],\n",
              " ['Awesome products', \"It's super\", 'by Vinodakumar on Jul 29, 2022'],\n",
              " ['Good\\nVery good', 'Good very good', 'by Aysha on Sep 30, 2022'],\n",
              " ['Thanku snapdeal', 'Superb', 'by Prakash on Aug 23, 2022'],\n",
              " ['Good product usefull, good quality',\n",
              "  'Very good',\n",
              "  'by prardhanapower on Aug 28, 2022'],\n",
              " ['Good for use to mt wife  she is satisfaction 👌',\n",
              "  'Excellent',\n",
              "  'by Sureshchandra on Aug 12, 2022'],\n",
              " ['Very much useful', 'Stand', 'by BIBHAS on Feb 11, 2022'],\n",
              " ['Superb very useful...', 'Good product..', 'by Raja on Feb 10, 2022'],\n",
              " ['Awesome product', 'Nice product', 'by Zayeem on Aug 29, 2022'],\n",
              " ['Excellent product', 'Mobile holder', 'by Ramani on Aug 19, 2022'],\n",
              " ['Very useful', 'Nbox uinivesal mobilestand', 'by K on Jul 27, 2022'],\n",
              " ['Prodect is good.', 'Quality', 'by Mahamkalirao Mv on Jun 30, 2022'],\n",
              " ['The product is Very good', 'Perfect', 'by Nitin on Feb 08, 2022'],\n",
              " ['Very good products', 'Very good product', 'by Nvrajarao on May 29, 2022'],\n",
              " ['Value for money', 'Timely delivered', 'by Abdul on Apr 17, 2022'],\n",
              " ['Nice Product...Quality is Very good bcoz of heavy gauge.',\n",
              "  'Nice product',\n",
              "  'by jagdish on Aug 20, 2022'],\n",
              " ['Snapdeal is ok', 'Good quality', 'by Kumar on Mar 26, 2022'],\n",
              " ['When i was going though the comments i had apprehension to order it. But guys this product is really good and the price is ridiculously low. If someone is looking for a mobile stand, please go for it.',\n",
              "  'Great deal and a sturdy product',\n",
              "  'by Hemendra on Jul 22, 2022'],\n",
              " ['Very good quality my mobile sef', 'Sssss', 'by rasheed on Sep 11, 2022'],\n",
              " ['Value for money',\n",
              "  \"It's metallic stand with black painted over all very nice product\",\n",
              "  'by Anandamoy on May 26, 2022'],\n",
              " ['Good and excellent', 'Supurb', 'by Ramachandraprabhu on Mar 03, 2022'],\n",
              " ['Product is fine',\n",
              "  'Product is according to my expectations',\n",
              "  'by Harish on May 16, 2022'],\n",
              " ['Accha product he', 'Awsome', 'by manoj on Mar 30, 2022'],\n",
              " ['Good quality and I like it it is very super',\n",
              "  'Good product 👍',\n",
              "  'by Sonia on Jan 28, 2022'],\n",
              " ['Good Quality and reasonable price.',\n",
              "  'Excellent',\n",
              "  'by Sattar on Aug 14, 2022'],\n",
              " ['Ok.... Good Design and durable strong quality products',\n",
              "  'Good Quality Products',\n",
              "  'by milankhan087 on May 10, 2022'],\n",
              " ['Excilent, nice product, i like.',\n",
              "  'Nice product, i like so much.',\n",
              "  'by Gulshan on May 11, 2022'],\n",
              " ['Super quality', 'Super quality', 'by Md Ifatkhar on Mar 31, 2022'],\n",
              " ['Nice product...\\nSuperior quality...',\n",
              "  'Great deal',\n",
              "  'by SriAbhirama on Mar 03, 2022'],\n",
              " ['Super excellence great', '*****', 'by Srinivas on Jul 08, 2022'],\n",
              " ['Very useful and quality is very good',\n",
              "  'Quality good',\n",
              "  'by Rita on Feb 21, 2022'],\n",
              " ['Good service',\n",
              "  'Great, packing nice, very good quality',\n",
              "  'by Gopal on Mar 16, 2022'],\n",
              " ['Excellent product ❤️❤️❤️❤️❤️',\n",
              "  'Good product ❤️❤️❤️❤️',\n",
              "  'by Raja Roy on Apr 22, 2022'],\n",
              " ['Best product in budget price',\n",
              "  'Sturdy and robust',\n",
              "  'by Ved on Apr 15, 2022'],\n",
              " [\"I'm satisfied\", \"I'm satisfied\", 'by Bithika on Feb 13, 2022'],\n",
              " ['Bahut hi achha or majbut h aap sabhi ise le skte hain.',\n",
              "  'Nice product',\n",
              "  'by TANVEER on Mar 17, 2022'],\n",
              " ['Thank you so much', 'I am very happy', 'by Sheikh on Feb 20, 2022'],\n",
              " ['Excellent quality products , value for Money must buy',\n",
              "  'Value for money',\n",
              "  'by Rajkumar on Mar 24, 2022'],\n",
              " ['Great product...very useful for my \\n10\" pad..sits majestically in front of me',\n",
              "  'Opinion',\n",
              "  'by Allwyn on Mar 26, 2022'],\n",
              " ['Price is very low but the product is so good',\n",
              "  \"It's very good product\",\n",
              "  'by Manikanta on Jun 16, 2022'],\n",
              " ['Good quality', 'Good quality', 'by Ranjana on Mar 30, 2022'],\n",
              " [\"It's a nice one for using in office purpose as well as for home use.\",\n",
              "  'Quality of the product',\n",
              "  'by Souvik on Mar 15, 2022'],\n",
              " ['Quality,Delivery and Dealings are upto satisfaction',\n",
              "  'Excellent',\n",
              "  'by Mohammed Aarif on Feb 01, 2022'],\n",
              " ['Excellent Experience and most Satisfied.',\n",
              "  'Phone Stand',\n",
              "  'by Munavar on Apr 28, 2022'],\n",
              " ['Bahut achha', 'Very good items', 'by Arvind on Mar 09, 2022'],\n",
              " ['Excellent 👌', 'Very good 👍', 'by Sunny on Apr 16, 2022'],\n",
              " ['nice compact and sturdy, \\nFull metal body hence no risc of breakage.',\n",
              "  'Excellent product',\n",
              "  'by Mahendra on Apr 02, 2022'],\n",
              " ['Not supported Mobile', 'Good quality product', 'by Dr M D on Mar 18, 2022'],\n",
              " ['Bahut achha product I love', 'Awesome', 'by lalkumar on Feb 07, 2022'],\n",
              " ['As compare to other buying options, it is cheapest.',\n",
              "  'Value for money',\n",
              "  'by madan on Jan 30, 2022'],\n",
              " ['Nice product 👍',\n",
              "  \"Nice but lightweighted that's why not stable all the time\",\n",
              "  'by Neelofar on Mar 13, 2022'],\n",
              " ['Solid & very usefull.', 'Great Product.', 'by Pankaj on Aug 11, 2022'],\n",
              " ['Nice product 👌', 'Good material', 'by Chittaranjan on Sep 25, 2022'],\n",
              " ['👌 best quality', 'Mobile phone stand', 'by Sandeepms on Mar 07, 2022'],\n",
              " ['Good product', 'Quality', 'by Muddasir on Oct 02, 2022'],\n",
              " ['Good performance.', 'Good product.', 'by RabindranathDash on Jun 06, 2022'],\n",
              " ['It is a good product.very useful.', 'Quality', 'by Sanjoy on May 24, 2022'],\n",
              " ['Metallic structure with rubber pads to prevent it from slipping.Product is worth its price.',\n",
              "  'Good Quality',\n",
              "  'by SUJIT on Feb 28, 2022'],\n",
              " ['Good product', 'Mobile phone stand holder', 'by Ashwini on Jul 31, 2022'],\n",
              " ['Very nice product', 'Mohammad Asif Khan', 'by Mohammad on Feb 16, 2022'],\n",
              " ['Quality  very  nice product',\n",
              "  'Veri nice',\n",
              "  'by kottapalliramakrishna86 on Feb 19, 2022'],\n",
              " ['Very nice stand at very affordable price। Go for it।',\n",
              "  'Hard and Steady',\n",
              "  'by Tanmoy on Jun 17, 2022'],\n",
              " ['Good product.', 'Nice.', 'by D on Jul 02, 2022'],\n",
              " [\"It's very useful me\", 'I like it', 'by Ekta on Feb 21, 2022'],\n",
              " ['Okay ,but need little more perfection.',\n",
              "  'PkNAMBIAR',\n",
              "  'by padmankandoth on Jun 11, 2022'],\n",
              " ['Thanks& good quality', 'Mobile stand', 'by Somnath on Aug 12, 2022'],\n",
              " ['Nice product. But delivery is not\\nPrompt.',\n",
              "  'Mobile Phone Stand',\n",
              "  'by ASHA on Jul 18, 2022'],\n",
              " ['It should be adjustable & folding to make it more attractive',\n",
              "  'Suggession',\n",
              "  'by RAJPAL SINGH on May 18, 2022'],\n",
              " [\"It's very usefull and I love it\", 'Thnks', 'by Ng Rani on Aug 04, 2022'],\n",
              " ['This products is very helpful to me while charging or watching videos or listening to music',\n",
              "  'NBOX Universal Mobile Stand holder',\n",
              "  'by Champabati on May 03, 2022'],\n",
              " ['Good forvalue', 'Good one', 'by Deepa on Jul 10, 2022'],\n",
              " ['Good  product',\n",
              "  'Want one more piece of this product',\n",
              "  'by Esther on Sep 10, 2022'],\n",
              " ['GOOD PRODUCT A LITTLE BIT HIGHER PRICING.',\n",
              "  'Good product',\n",
              "  'by Ashok on Jun 08, 2022'],\n",
              " ['Nice product', 'Good product', 'by Navas on Mar 08, 2022'],\n",
              " ['Very handy.', 'Mobile stand holder.', 'by Joe on Jul 08, 2022'],\n",
              " ['Nice and the delivery person is good..and delivered on time...',\n",
              "  'Nice product',\n",
              "  'by Suja on May 28, 2022'],\n",
              " ['Quality is good', 'Good n helpful product ...', 'by Smita on Apr 13, 2022'],\n",
              " ['Little bigger size is required',\n",
              "  'Small in size',\n",
              "  'by Prasun on Mar 08, 2022'],\n",
              " ['Good quality, especially for this price. I got additional cash discount also.\\n\\nSimple and sturdy. It serves the purpose very well.',\n",
              "  'Very good especially for this price.',\n",
              "  'by Tissy on Mar 09, 2022'],\n",
              " ['very nice product and useful to keeep mobile on stand/ table or else shere.',\n",
              "  'very nice of metal stand. Good delivery and good packing. Nice of snap deal',\n",
              "  'by Harikumar on Aug 19, 2022'],\n",
              " ['Quality is Good', 'Quality', 'by SV on Feb 07, 2022']]"
            ]
          },
          "metadata": {},
          "execution_count": 20
        }
      ]
    },
    {
      "cell_type": "code",
      "source": [
        "import pandas as pd"
      ],
      "metadata": {
        "id": "uUjqUyl2TIpq"
      },
      "execution_count": 21,
      "outputs": []
    },
    {
      "cell_type": "code",
      "source": [
        "df_snapdeal = pd.DataFrame(dataset,columns = [\"Reviews\",\"Title\",\"Info\"])"
      ],
      "metadata": {
        "id": "g-Ppvw15TU6T"
      },
      "execution_count": 22,
      "outputs": []
    },
    {
      "cell_type": "code",
      "source": [
        "df_snapdeal.head()"
      ],
      "metadata": {
        "id": "gLJUEcvJUXmx",
        "colab": {
          "base_uri": "https://localhost:8080/",
          "height": 206
        },
        "outputId": "254318cf-7344-4d6f-b353-8cb33412dfce"
      },
      "execution_count": 23,
      "outputs": [
        {
          "output_type": "execute_result",
          "data": {
            "text/plain": [
              "                                             Reviews           Title  \\\n",
              "0                                     Super snapdeal           Super   \n",
              "1                                       Nice Product    Nice Product   \n",
              "2                                   SUPER VERY SUPER  SERVICES SUPER   \n",
              "3  Very nice product Really worth it.Thank u snap...     Very Good 🙂   \n",
              "4                     Very handy and useful product.          Useful   \n",
              "\n",
              "                                 Info  \n",
              "0         by Manveeth on Jul 25, 2022  \n",
              "1  by parvezbadal0786 on Mar 15, 2022  \n",
              "2          by ERAMANI on Jul 20, 2022  \n",
              "3         by Susheela on Sep 28, 2022  \n",
              "4           by Rajeev on Sep 19, 2022  "
            ],
            "text/html": [
              "\n",
              "  <div id=\"df-7d3dc9f9-8d57-4e22-ab54-0ea2590546db\">\n",
              "    <div class=\"colab-df-container\">\n",
              "      <div>\n",
              "<style scoped>\n",
              "    .dataframe tbody tr th:only-of-type {\n",
              "        vertical-align: middle;\n",
              "    }\n",
              "\n",
              "    .dataframe tbody tr th {\n",
              "        vertical-align: top;\n",
              "    }\n",
              "\n",
              "    .dataframe thead th {\n",
              "        text-align: right;\n",
              "    }\n",
              "</style>\n",
              "<table border=\"1\" class=\"dataframe\">\n",
              "  <thead>\n",
              "    <tr style=\"text-align: right;\">\n",
              "      <th></th>\n",
              "      <th>Reviews</th>\n",
              "      <th>Title</th>\n",
              "      <th>Info</th>\n",
              "    </tr>\n",
              "  </thead>\n",
              "  <tbody>\n",
              "    <tr>\n",
              "      <th>0</th>\n",
              "      <td>Super snapdeal</td>\n",
              "      <td>Super</td>\n",
              "      <td>by Manveeth on Jul 25, 2022</td>\n",
              "    </tr>\n",
              "    <tr>\n",
              "      <th>1</th>\n",
              "      <td>Nice Product</td>\n",
              "      <td>Nice Product</td>\n",
              "      <td>by parvezbadal0786 on Mar 15, 2022</td>\n",
              "    </tr>\n",
              "    <tr>\n",
              "      <th>2</th>\n",
              "      <td>SUPER VERY SUPER</td>\n",
              "      <td>SERVICES SUPER</td>\n",
              "      <td>by ERAMANI on Jul 20, 2022</td>\n",
              "    </tr>\n",
              "    <tr>\n",
              "      <th>3</th>\n",
              "      <td>Very nice product Really worth it.Thank u snap...</td>\n",
              "      <td>Very Good 🙂</td>\n",
              "      <td>by Susheela on Sep 28, 2022</td>\n",
              "    </tr>\n",
              "    <tr>\n",
              "      <th>4</th>\n",
              "      <td>Very handy and useful product.</td>\n",
              "      <td>Useful</td>\n",
              "      <td>by Rajeev on Sep 19, 2022</td>\n",
              "    </tr>\n",
              "  </tbody>\n",
              "</table>\n",
              "</div>\n",
              "      <button class=\"colab-df-convert\" onclick=\"convertToInteractive('df-7d3dc9f9-8d57-4e22-ab54-0ea2590546db')\"\n",
              "              title=\"Convert this dataframe to an interactive table.\"\n",
              "              style=\"display:none;\">\n",
              "        \n",
              "  <svg xmlns=\"http://www.w3.org/2000/svg\" height=\"24px\"viewBox=\"0 0 24 24\"\n",
              "       width=\"24px\">\n",
              "    <path d=\"M0 0h24v24H0V0z\" fill=\"none\"/>\n",
              "    <path d=\"M18.56 5.44l.94 2.06.94-2.06 2.06-.94-2.06-.94-.94-2.06-.94 2.06-2.06.94zm-11 1L8.5 8.5l.94-2.06 2.06-.94-2.06-.94L8.5 2.5l-.94 2.06-2.06.94zm10 10l.94 2.06.94-2.06 2.06-.94-2.06-.94-.94-2.06-.94 2.06-2.06.94z\"/><path d=\"M17.41 7.96l-1.37-1.37c-.4-.4-.92-.59-1.43-.59-.52 0-1.04.2-1.43.59L10.3 9.45l-7.72 7.72c-.78.78-.78 2.05 0 2.83L4 21.41c.39.39.9.59 1.41.59.51 0 1.02-.2 1.41-.59l7.78-7.78 2.81-2.81c.8-.78.8-2.07 0-2.86zM5.41 20L4 18.59l7.72-7.72 1.47 1.35L5.41 20z\"/>\n",
              "  </svg>\n",
              "      </button>\n",
              "      \n",
              "  <style>\n",
              "    .colab-df-container {\n",
              "      display:flex;\n",
              "      flex-wrap:wrap;\n",
              "      gap: 12px;\n",
              "    }\n",
              "\n",
              "    .colab-df-convert {\n",
              "      background-color: #E8F0FE;\n",
              "      border: none;\n",
              "      border-radius: 50%;\n",
              "      cursor: pointer;\n",
              "      display: none;\n",
              "      fill: #1967D2;\n",
              "      height: 32px;\n",
              "      padding: 0 0 0 0;\n",
              "      width: 32px;\n",
              "    }\n",
              "\n",
              "    .colab-df-convert:hover {\n",
              "      background-color: #E2EBFA;\n",
              "      box-shadow: 0px 1px 2px rgba(60, 64, 67, 0.3), 0px 1px 3px 1px rgba(60, 64, 67, 0.15);\n",
              "      fill: #174EA6;\n",
              "    }\n",
              "\n",
              "    [theme=dark] .colab-df-convert {\n",
              "      background-color: #3B4455;\n",
              "      fill: #D2E3FC;\n",
              "    }\n",
              "\n",
              "    [theme=dark] .colab-df-convert:hover {\n",
              "      background-color: #434B5C;\n",
              "      box-shadow: 0px 1px 3px 1px rgba(0, 0, 0, 0.15);\n",
              "      filter: drop-shadow(0px 1px 2px rgba(0, 0, 0, 0.3));\n",
              "      fill: #FFFFFF;\n",
              "    }\n",
              "  </style>\n",
              "\n",
              "      <script>\n",
              "        const buttonEl =\n",
              "          document.querySelector('#df-7d3dc9f9-8d57-4e22-ab54-0ea2590546db button.colab-df-convert');\n",
              "        buttonEl.style.display =\n",
              "          google.colab.kernel.accessAllowed ? 'block' : 'none';\n",
              "\n",
              "        async function convertToInteractive(key) {\n",
              "          const element = document.querySelector('#df-7d3dc9f9-8d57-4e22-ab54-0ea2590546db');\n",
              "          const dataTable =\n",
              "            await google.colab.kernel.invokeFunction('convertToInteractive',\n",
              "                                                     [key], {});\n",
              "          if (!dataTable) return;\n",
              "\n",
              "          const docLinkHtml = 'Like what you see? Visit the ' +\n",
              "            '<a target=\"_blank\" href=https://colab.research.google.com/notebooks/data_table.ipynb>data table notebook</a>'\n",
              "            + ' to learn more about interactive tables.';\n",
              "          element.innerHTML = '';\n",
              "          dataTable['output_type'] = 'display_data';\n",
              "          await google.colab.output.renderOutput(dataTable, element);\n",
              "          const docLink = document.createElement('div');\n",
              "          docLink.innerHTML = docLinkHtml;\n",
              "          element.appendChild(docLink);\n",
              "        }\n",
              "      </script>\n",
              "    </div>\n",
              "  </div>\n",
              "  "
            ]
          },
          "metadata": {},
          "execution_count": 23
        }
      ]
    },
    {
      "cell_type": "code",
      "source": [
        "df_snapdeal.isnull().sum()"
      ],
      "metadata": {
        "colab": {
          "base_uri": "https://localhost:8080/"
        },
        "id": "s6gzMGnk98Fa",
        "outputId": "51611275-d632-4fc7-bdc9-85aca5f512c4"
      },
      "execution_count": 25,
      "outputs": [
        {
          "output_type": "execute_result",
          "data": {
            "text/plain": [
              "Reviews    0\n",
              "Title      0\n",
              "Info       0\n",
              "dtype: int64"
            ]
          },
          "metadata": {},
          "execution_count": 25
        }
      ]
    },
    {
      "cell_type": "code",
      "source": [
        "import re"
      ],
      "metadata": {
        "id": "TjQTfA8r-i5u"
      },
      "execution_count": 26,
      "outputs": []
    },
    {
      "cell_type": "code",
      "source": [
        "def extract_name(inf):\n",
        "  name = re.findall(\"by\\s(.+)\\son\",inf)\n",
        "  return name[0]"
      ],
      "metadata": {
        "id": "jcV91Z0i9_d2"
      },
      "execution_count": 41,
      "outputs": []
    },
    {
      "cell_type": "code",
      "source": [
        "extract_name(\"by Manveeth on Jul 25, 2022\")"
      ],
      "metadata": {
        "colab": {
          "base_uri": "https://localhost:8080/",
          "height": 36
        },
        "id": "UU87UvWf-_nC",
        "outputId": "5cc8c337-e9ba-46e2-aeb7-596e22bc4061"
      },
      "execution_count": 42,
      "outputs": [
        {
          "output_type": "execute_result",
          "data": {
            "text/plain": [
              "'Manveeth'"
            ],
            "application/vnd.google.colaboratory.intrinsic+json": {
              "type": "string"
            }
          },
          "metadata": {},
          "execution_count": 42
        }
      ]
    },
    {
      "cell_type": "code",
      "source": [
        "extract_name(\"by B AnilKumar on Jul 25, 2022\")"
      ],
      "metadata": {
        "colab": {
          "base_uri": "https://localhost:8080/",
          "height": 36
        },
        "id": "XT1WfTn4_F1p",
        "outputId": "c364f238-aaf1-49ff-a4fa-7adaf7bf01e7"
      },
      "execution_count": 43,
      "outputs": [
        {
          "output_type": "execute_result",
          "data": {
            "text/plain": [
              "'B AnilKumar'"
            ],
            "application/vnd.google.colaboratory.intrinsic+json": {
              "type": "string"
            }
          },
          "metadata": {},
          "execution_count": 43
        }
      ]
    },
    {
      "cell_type": "code",
      "source": [
        "def extract_date(inf):\n",
        "  date = re.findall(\"on\\s(.+)\",inf)\n",
        "  return date[0]\n"
      ],
      "metadata": {
        "id": "fYwj6Hfj_yk8"
      },
      "execution_count": 44,
      "outputs": []
    },
    {
      "cell_type": "code",
      "source": [
        "extract_date(\"by Rajeev on Sep 19, 2022\")"
      ],
      "metadata": {
        "colab": {
          "base_uri": "https://localhost:8080/",
          "height": 36
        },
        "id": "J-o_t3sSAg0q",
        "outputId": "8c2bc5bc-acb3-4eb0-e89f-af2ec859d536"
      },
      "execution_count": 45,
      "outputs": [
        {
          "output_type": "execute_result",
          "data": {
            "text/plain": [
              "'Sep 19, 2022'"
            ],
            "application/vnd.google.colaboratory.intrinsic+json": {
              "type": "string"
            }
          },
          "metadata": {},
          "execution_count": 45
        }
      ]
    },
    {
      "cell_type": "code",
      "source": [
        "df_snapdeal[\"Name\"] = df_snapdeal[\"Info\"].apply(extract_name)"
      ],
      "metadata": {
        "id": "HzFcAdHDAmvc"
      },
      "execution_count": 46,
      "outputs": []
    },
    {
      "cell_type": "code",
      "source": [
        "df_snapdeal[\"Date\"] = df_snapdeal[\"Info\"].apply(extract_date)"
      ],
      "metadata": {
        "id": "mMO31mZbBNHe"
      },
      "execution_count": 47,
      "outputs": []
    },
    {
      "cell_type": "code",
      "source": [
        "df_snapdeal.head()"
      ],
      "metadata": {
        "colab": {
          "base_uri": "https://localhost:8080/",
          "height": 206
        },
        "id": "PK9JiK4NBUj7",
        "outputId": "c4e55173-c08a-4566-d77a-196b8077c9f0"
      },
      "execution_count": 48,
      "outputs": [
        {
          "output_type": "execute_result",
          "data": {
            "text/plain": [
              "                                             Reviews           Title  \\\n",
              "0                                     Super snapdeal           Super   \n",
              "1                                       Nice Product    Nice Product   \n",
              "2                                   SUPER VERY SUPER  SERVICES SUPER   \n",
              "3  Very nice product Really worth it.Thank u snap...     Very Good 🙂   \n",
              "4                     Very handy and useful product.          Useful   \n",
              "\n",
              "                                 Info             Name          Date  \n",
              "0         by Manveeth on Jul 25, 2022         Manveeth  Jul 25, 2022  \n",
              "1  by parvezbadal0786 on Mar 15, 2022  parvezbadal0786  Mar 15, 2022  \n",
              "2          by ERAMANI on Jul 20, 2022          ERAMANI  Jul 20, 2022  \n",
              "3         by Susheela on Sep 28, 2022         Susheela  Sep 28, 2022  \n",
              "4           by Rajeev on Sep 19, 2022           Rajeev  Sep 19, 2022  "
            ],
            "text/html": [
              "\n",
              "  <div id=\"df-24f80b67-b0d3-40d6-ba46-1fbf7f44b6bb\">\n",
              "    <div class=\"colab-df-container\">\n",
              "      <div>\n",
              "<style scoped>\n",
              "    .dataframe tbody tr th:only-of-type {\n",
              "        vertical-align: middle;\n",
              "    }\n",
              "\n",
              "    .dataframe tbody tr th {\n",
              "        vertical-align: top;\n",
              "    }\n",
              "\n",
              "    .dataframe thead th {\n",
              "        text-align: right;\n",
              "    }\n",
              "</style>\n",
              "<table border=\"1\" class=\"dataframe\">\n",
              "  <thead>\n",
              "    <tr style=\"text-align: right;\">\n",
              "      <th></th>\n",
              "      <th>Reviews</th>\n",
              "      <th>Title</th>\n",
              "      <th>Info</th>\n",
              "      <th>Name</th>\n",
              "      <th>Date</th>\n",
              "    </tr>\n",
              "  </thead>\n",
              "  <tbody>\n",
              "    <tr>\n",
              "      <th>0</th>\n",
              "      <td>Super snapdeal</td>\n",
              "      <td>Super</td>\n",
              "      <td>by Manveeth on Jul 25, 2022</td>\n",
              "      <td>Manveeth</td>\n",
              "      <td>Jul 25, 2022</td>\n",
              "    </tr>\n",
              "    <tr>\n",
              "      <th>1</th>\n",
              "      <td>Nice Product</td>\n",
              "      <td>Nice Product</td>\n",
              "      <td>by parvezbadal0786 on Mar 15, 2022</td>\n",
              "      <td>parvezbadal0786</td>\n",
              "      <td>Mar 15, 2022</td>\n",
              "    </tr>\n",
              "    <tr>\n",
              "      <th>2</th>\n",
              "      <td>SUPER VERY SUPER</td>\n",
              "      <td>SERVICES SUPER</td>\n",
              "      <td>by ERAMANI on Jul 20, 2022</td>\n",
              "      <td>ERAMANI</td>\n",
              "      <td>Jul 20, 2022</td>\n",
              "    </tr>\n",
              "    <tr>\n",
              "      <th>3</th>\n",
              "      <td>Very nice product Really worth it.Thank u snap...</td>\n",
              "      <td>Very Good 🙂</td>\n",
              "      <td>by Susheela on Sep 28, 2022</td>\n",
              "      <td>Susheela</td>\n",
              "      <td>Sep 28, 2022</td>\n",
              "    </tr>\n",
              "    <tr>\n",
              "      <th>4</th>\n",
              "      <td>Very handy and useful product.</td>\n",
              "      <td>Useful</td>\n",
              "      <td>by Rajeev on Sep 19, 2022</td>\n",
              "      <td>Rajeev</td>\n",
              "      <td>Sep 19, 2022</td>\n",
              "    </tr>\n",
              "  </tbody>\n",
              "</table>\n",
              "</div>\n",
              "      <button class=\"colab-df-convert\" onclick=\"convertToInteractive('df-24f80b67-b0d3-40d6-ba46-1fbf7f44b6bb')\"\n",
              "              title=\"Convert this dataframe to an interactive table.\"\n",
              "              style=\"display:none;\">\n",
              "        \n",
              "  <svg xmlns=\"http://www.w3.org/2000/svg\" height=\"24px\"viewBox=\"0 0 24 24\"\n",
              "       width=\"24px\">\n",
              "    <path d=\"M0 0h24v24H0V0z\" fill=\"none\"/>\n",
              "    <path d=\"M18.56 5.44l.94 2.06.94-2.06 2.06-.94-2.06-.94-.94-2.06-.94 2.06-2.06.94zm-11 1L8.5 8.5l.94-2.06 2.06-.94-2.06-.94L8.5 2.5l-.94 2.06-2.06.94zm10 10l.94 2.06.94-2.06 2.06-.94-2.06-.94-.94-2.06-.94 2.06-2.06.94z\"/><path d=\"M17.41 7.96l-1.37-1.37c-.4-.4-.92-.59-1.43-.59-.52 0-1.04.2-1.43.59L10.3 9.45l-7.72 7.72c-.78.78-.78 2.05 0 2.83L4 21.41c.39.39.9.59 1.41.59.51 0 1.02-.2 1.41-.59l7.78-7.78 2.81-2.81c.8-.78.8-2.07 0-2.86zM5.41 20L4 18.59l7.72-7.72 1.47 1.35L5.41 20z\"/>\n",
              "  </svg>\n",
              "      </button>\n",
              "      \n",
              "  <style>\n",
              "    .colab-df-container {\n",
              "      display:flex;\n",
              "      flex-wrap:wrap;\n",
              "      gap: 12px;\n",
              "    }\n",
              "\n",
              "    .colab-df-convert {\n",
              "      background-color: #E8F0FE;\n",
              "      border: none;\n",
              "      border-radius: 50%;\n",
              "      cursor: pointer;\n",
              "      display: none;\n",
              "      fill: #1967D2;\n",
              "      height: 32px;\n",
              "      padding: 0 0 0 0;\n",
              "      width: 32px;\n",
              "    }\n",
              "\n",
              "    .colab-df-convert:hover {\n",
              "      background-color: #E2EBFA;\n",
              "      box-shadow: 0px 1px 2px rgba(60, 64, 67, 0.3), 0px 1px 3px 1px rgba(60, 64, 67, 0.15);\n",
              "      fill: #174EA6;\n",
              "    }\n",
              "\n",
              "    [theme=dark] .colab-df-convert {\n",
              "      background-color: #3B4455;\n",
              "      fill: #D2E3FC;\n",
              "    }\n",
              "\n",
              "    [theme=dark] .colab-df-convert:hover {\n",
              "      background-color: #434B5C;\n",
              "      box-shadow: 0px 1px 3px 1px rgba(0, 0, 0, 0.15);\n",
              "      filter: drop-shadow(0px 1px 2px rgba(0, 0, 0, 0.3));\n",
              "      fill: #FFFFFF;\n",
              "    }\n",
              "  </style>\n",
              "\n",
              "      <script>\n",
              "        const buttonEl =\n",
              "          document.querySelector('#df-24f80b67-b0d3-40d6-ba46-1fbf7f44b6bb button.colab-df-convert');\n",
              "        buttonEl.style.display =\n",
              "          google.colab.kernel.accessAllowed ? 'block' : 'none';\n",
              "\n",
              "        async function convertToInteractive(key) {\n",
              "          const element = document.querySelector('#df-24f80b67-b0d3-40d6-ba46-1fbf7f44b6bb');\n",
              "          const dataTable =\n",
              "            await google.colab.kernel.invokeFunction('convertToInteractive',\n",
              "                                                     [key], {});\n",
              "          if (!dataTable) return;\n",
              "\n",
              "          const docLinkHtml = 'Like what you see? Visit the ' +\n",
              "            '<a target=\"_blank\" href=https://colab.research.google.com/notebooks/data_table.ipynb>data table notebook</a>'\n",
              "            + ' to learn more about interactive tables.';\n",
              "          element.innerHTML = '';\n",
              "          dataTable['output_type'] = 'display_data';\n",
              "          await google.colab.output.renderOutput(dataTable, element);\n",
              "          const docLink = document.createElement('div');\n",
              "          docLink.innerHTML = docLinkHtml;\n",
              "          element.appendChild(docLink);\n",
              "        }\n",
              "      </script>\n",
              "    </div>\n",
              "  </div>\n",
              "  "
            ]
          },
          "metadata": {},
          "execution_count": 48
        }
      ]
    },
    {
      "cell_type": "code",
      "source": [],
      "metadata": {
        "id": "AQlc-_HfBY2p"
      },
      "execution_count": null,
      "outputs": []
    }
  ]
}